{
  "cells": [
    {
      "cell_type": "markdown",
      "metadata": {
        "id": "rqxpid8J3_xt"
      },
      "source": [
        "# Part of Speech Tagging with LSTM, Fine-tuned BERT\n",
        "**CS 4650 \"Natural Language Processing\" Project 2**  \n",
        "Georgia Tech, Fall 2023 (Instructor: Alan Ritter)\n",
        "\n",
        "**To start, first make a copy of this notebook to your local drive, so you can edit it.**\n",
        "\n",
        "If you want GPUs (which will improve training speed), you can always change your instance type to GPU by going to Runtime -> Change runtime type -> Hardware accelerator.\n",
        "\n"
      ]
    },
    {
      "cell_type": "markdown",
      "metadata": {
        "id": "S_DVctvT4zlV"
      },
      "source": [
        "## 1. Basic POS Tagger  [15 points]\n",
        "\n",
        "In this assignment, we will train LSTM-based POS-taggers, and evaluate their performance. We will use English text from the Wall Street Journal, marked with POS tags such as `NNP` (proper noun) and `DT` (determiner)."
      ]
    },
    {
      "cell_type": "markdown",
      "metadata": {
        "id": "3X367eCR3_x0"
      },
      "source": [
        "### 1.1 Setup"
      ]
    },
    {
      "cell_type": "code",
      "execution_count": null,
      "metadata": {
        "id": "2hVu_ia9Ottg"
      },
      "outputs": [],
      "source": [
        "!curl -so train.txt https://raw.githubusercontent.com/chaojiang06/chaojiang06.github.io/master/TA/spring2022_CS4650/train.txt"
      ]
    },
    {
      "cell_type": "code",
      "execution_count": null,
      "metadata": {
        "id": "DtnGNDoA3_x3"
      },
      "outputs": [],
      "source": [
        "# ===========================================================================\n",
        "# Run some setup code for this notebook. Don't modify anything in this cell.\n",
        "# ===========================================================================\n",
        "\n",
        "import torch\n",
        "import torch.nn as nn\n",
        "import torch.nn.functional as F\n",
        "import torch.optim as optim\n",
        "\n",
        "import random\n",
        "\n",
        "RANDOM_SEED = 42\n",
        "torch.manual_seed(RANDOM_SEED)\n",
        "random.seed(RANDOM_SEED)\n",
        "\n",
        "# ===========================================================================\n",
        "# A quick note on CUDA functionality (and `.to(model.device)`):\n",
        "# CUDA is a parallel GPU platform produced by NVIDIA and is used by most GPU\n",
        "# libraries in PyTorch. CUDA organizes GPUs into device IDs (i.e., \"cuda:X\" for GPU #X).\n",
        "# \"device\" will tell PyTorch which GPU (or CPU) to place an object in. Since\n",
        "# collab only uses one GPU, we will use 'cuda' as the device if a GPU is available\n",
        "# and the CPU if not. You will run into problems if your tensors are on different devices.\n",
        "# ===========================================================================\n",
        "device = torch.device('cuda' if torch.cuda.is_available() else 'cpu')"
      ]
    },
    {
      "cell_type": "markdown",
      "metadata": {
        "id": "xuEywStkc3M5"
      },
      "source": [
        "You can check to make sure a GPU is available using the following code block.\n",
        "\n",
        "\n",
        "```py\n",
        "# If the below message is shown, it means you are using a CPU.\n",
        "/bin/bash: nvidia-smi: command not found\n",
        "```\n",
        "\n",
        "\n",
        "\n"
      ]
    },
    {
      "cell_type": "code",
      "execution_count": null,
      "metadata": {
        "colab": {
          "base_uri": "https://localhost:8080/"
        },
        "id": "ounnp0ASc58O",
        "outputId": "e968a6f4-7ae3-4b76-ed47-36c30e092835"
      },
      "outputs": [
        {
          "name": "stdout",
          "output_type": "stream",
          "text": [
            "Tue Feb 13 16:00:00 2024       \n",
            "+---------------------------------------------------------------------------------------+\n",
            "| NVIDIA-SMI 535.104.05             Driver Version: 535.104.05   CUDA Version: 12.2     |\n",
            "|-----------------------------------------+----------------------+----------------------+\n",
            "| GPU  Name                 Persistence-M | Bus-Id        Disp.A | Volatile Uncorr. ECC |\n",
            "| Fan  Temp   Perf          Pwr:Usage/Cap |         Memory-Usage | GPU-Util  Compute M. |\n",
            "|                                         |                      |               MIG M. |\n",
            "|=========================================+======================+======================|\n",
            "|   0  Tesla T4                       Off | 00000000:00:04.0 Off |                    0 |\n",
            "| N/A   52C    P8              10W /  70W |      3MiB / 15360MiB |      0%      Default |\n",
            "|                                         |                      |                  N/A |\n",
            "+-----------------------------------------+----------------------+----------------------+\n",
            "                                                                                         \n",
            "+---------------------------------------------------------------------------------------+\n",
            "| Processes:                                                                            |\n",
            "|  GPU   GI   CI        PID   Type   Process name                            GPU Memory |\n",
            "|        ID   ID                                                             Usage      |\n",
            "|=======================================================================================|\n",
            "|  No running processes found                                                           |\n",
            "+---------------------------------------------------------------------------------------+\n"
          ]
        }
      ],
      "source": [
        "gpu_info = !nvidia-smi\n",
        "gpu_info = '\\n'.join(gpu_info)\n",
        "if gpu_info.find('failed') >= 0:\n",
        "  print('Select the Runtime > \"Change runtime type\" menu to enable a GPU accelerator, ')\n",
        "  print('and then re-execute this cell.')\n",
        "else:\n",
        "  print(gpu_info)"
      ]
    },
    {
      "cell_type": "markdown",
      "metadata": {
        "id": "OwA2y6OR3_yE"
      },
      "source": [
        "### 1.2 Preparing Data\n",
        "\n",
        "`train.txt`: The training data is present in this file. This file contains sequences of words and their respective tags. The data is split into 80% training and 20% development to train the model and tune the hyperparameters, respectively. See `load_tag_data` for details on how to read the training data."
      ]
    },
    {
      "cell_type": "code",
      "execution_count": null,
      "metadata": {
        "colab": {
          "base_uri": "https://localhost:8080/"
        },
        "id": "kFpH2P1A3_yG",
        "outputId": "c8efd07d-e6c0-45b1-b459-933fe9a7a6af"
      },
      "outputs": [
        {
          "name": "stdout",
          "output_type": "stream",
          "text": [
            "Train Data:  7148\n",
            "Val Data:  1788\n",
            "Total tags:  44\n"
          ]
        }
      ],
      "source": [
        "# ===========================================================================\n",
        "# Run some preprocessing code for our dataset. Don't modify anything in this cell.\n",
        "# ===========================================================================\n",
        "\n",
        "def load_tag_data(tag_file):\n",
        "    all_sentences = []\n",
        "    all_tags = []\n",
        "    sent = []\n",
        "    tags = []\n",
        "    with open(tag_file, 'r') as f:\n",
        "        for line in f:\n",
        "            if line.strip() == \"\":\n",
        "                all_sentences.append(sent)\n",
        "                all_tags.append(tags)\n",
        "                sent = []\n",
        "                tags = []\n",
        "            else:\n",
        "                word, tag, _ = line.strip().split()\n",
        "                sent.append(word)\n",
        "                tags.append(tag)\n",
        "    return all_sentences, all_tags\n",
        "\n",
        "train_sentences, train_tags = load_tag_data('train.txt')\n",
        "\n",
        "unique_tags = set([tag for tag_seq in train_tags for tag in tag_seq])\n",
        "\n",
        "# Create train-val split from train data\n",
        "train_val_data = list(zip(train_sentences, train_tags))\n",
        "random.shuffle(train_val_data)\n",
        "split = int(0.8 * len(train_val_data))\n",
        "training_data = train_val_data[:split]\n",
        "val_data = train_val_data[split:]\n",
        "\n",
        "print(\"Train Data: \", len(training_data))\n",
        "print(\"Val Data: \", len(val_data))\n",
        "print(\"Total tags: \", len(unique_tags))"
      ]
    },
    {
      "cell_type": "markdown",
      "metadata": {
        "id": "tlfliN0J-RzV"
      },
      "source": [
        "### 1.3 Word-to-Index and Tag-to-Index mapping\n",
        "In order to work with text in Tensor format, we need to map each word to an index."
      ]
    },
    {
      "cell_type": "code",
      "execution_count": null,
      "metadata": {
        "colab": {
          "base_uri": "https://localhost:8080/"
        },
        "id": "uojEDun83_yP",
        "outputId": "6651004c-c171-4b9c-9e99-ce2b2628cc3a"
      },
      "outputs": [
        {
          "name": "stdout",
          "output_type": "stream",
          "text": [
            "Total tags 44\n",
            "Vocab size 19122\n"
          ]
        }
      ],
      "source": [
        "# ===========================================================================\n",
        "# Don't modify anything in this cell.\n",
        "# ===========================================================================\n",
        "\n",
        "word_to_idx = {}\n",
        "for sent in train_sentences:\n",
        "    for word in sent:\n",
        "        if word not in word_to_idx:\n",
        "            word_to_idx[word] = len(word_to_idx)\n",
        "\n",
        "tag_to_idx = {}\n",
        "for tag in unique_tags:\n",
        "    if tag not in tag_to_idx:\n",
        "        tag_to_idx[tag] = len(tag_to_idx)\n",
        "\n",
        "idx_to_tag = {}\n",
        "for tag in tag_to_idx:\n",
        "    idx_to_tag[tag_to_idx[tag]] = tag\n",
        "\n",
        "print(\"Total tags\", len(tag_to_idx))\n",
        "print(\"Vocab size\", len(word_to_idx))"
      ]
    },
    {
      "cell_type": "code",
      "execution_count": null,
      "metadata": {
        "id": "H26dqorp3_yX"
      },
      "outputs": [],
      "source": [
        "def prepare_sequence(sent, idx_mapping):\n",
        "    idxs = [idx_mapping[word] for word in sent]\n",
        "    return torch.tensor(idxs, dtype=torch.long)"
      ]
    },
    {
      "cell_type": "markdown",
      "metadata": {
        "id": "WRnBTCwD3_yc"
      },
      "source": [
        "### 1.4 Set up model\n",
        "We will build and train a Basic POS Tagger which is an LSTM model to tag the parts of speech in a given sentence. Here we define a few default hyperparameters for your model."
      ]
    },
    {
      "cell_type": "code",
      "execution_count": null,
      "metadata": {
        "id": "2P5SHabu3_yf"
      },
      "outputs": [],
      "source": [
        "EMBEDDING_DIM = 4\n",
        "HIDDEN_DIM = 8\n",
        "LEARNING_RATE = 0.1\n",
        "LSTM_LAYERS = 1\n",
        "DROPOUT = 0\n",
        "EPOCHS = 10"
      ]
    },
    {
      "cell_type": "markdown",
      "metadata": {
        "id": "jkkS4oEb3_yk"
      },
      "source": [
        "### 1.5 Define Model [5 points]\n",
        "\n",
        "The model takes as input a sentence as a tensor in the index space. This sentence is then converted to embedding space where each word maps to its word embedding. The word embeddings is learned as part of the model training process. These word embeddings act as input to the LSTM which produces a representation for each word. Then the representations of words are passed to a Linear layer."
      ]
    },
    {
      "cell_type": "code",
      "execution_count": null,
      "metadata": {
        "id": "aCa30HQb3_ym"
      },
      "outputs": [],
      "source": [
        "class BasicPOSTagger(nn.Module):\n",
        "    def __init__(self, embedding_dim, hidden_dim, vocab_size, tagset_size):\n",
        "        \"\"\"\n",
        "        Define and initialize anything needed for the forward pass.\n",
        "\n",
        "        You are required to create a model with:\n",
        "          an embedding layer: that maps words to the embedding space\n",
        "          an LSTM layer: that takes word embeddings as input and outputs hidden states\n",
        "          a linear layer: maps from hidden state space to tag space\n",
        "        \"\"\"\n",
        "        super(BasicPOSTagger, self).__init__()\n",
        "\n",
        "        ### BEGIN YOUR CODE ###\n",
        "\n",
        "        self.word_embeddings = nn.Embedding(vocab_size, embedding_dim)\n",
        "        self.lstm = nn.LSTM(embedding_dim, hidden_dim, num_layers=LSTM_LAYERS, dropout=DROPOUT)\n",
        "        self.hidden2tag = nn.Linear(hidden_dim, tagset_size)\n",
        "\n",
        "        ### END YOUR CODE ###\n",
        "\n",
        "    def forward(self, sentence):\n",
        "        \"\"\"\n",
        "        Implement the forward pass.\n",
        "\n",
        "        Given a tokenized index-mapped sentence as the argument,\n",
        "        compute the corresponding raw scores for tags (without softmax)\n",
        "\n",
        "        returns:: tag_scores (Tensor)\n",
        "        \"\"\"\n",
        "        tag_scores = None\n",
        "\n",
        "        ### BEGIN YOUR CODE ###\n",
        "\n",
        "        embeds = self.word_embeddings(sentence)\n",
        "        lstm_out, _ = self.lstm(embeds.view(len(sentence), 1, -1))\n",
        "        tag_scores = self.hidden2tag(lstm_out.view(len(sentence), -1))\n",
        "\n",
        "        ### END YOUR CODE ###\n",
        "\n",
        "        return tag_scores"
      ]
    },
    {
      "cell_type": "markdown",
      "metadata": {
        "id": "Ot9J3MrB3_ys"
      },
      "source": [
        "### 1.6 Training [5 points]\n",
        "\n",
        "We define train and evaluate procedures that allow us to train our model using our created train-val split."
      ]
    },
    {
      "cell_type": "code",
      "execution_count": null,
      "metadata": {
        "id": "BWMGxh4Z3_yv"
      },
      "outputs": [],
      "source": [
        "def train(epoch, model, loss_function, optimizer):\n",
        "    model.train()\n",
        "    train_loss = 0\n",
        "    train_examples = 0\n",
        "    for sentence, tags in training_data:\n",
        "        \"\"\"\n",
        "        Implement the training method\n",
        "\n",
        "        Hint: you can use the prepare_sequence method for creating index mappings\n",
        "        for sentences. Find the gradient with respect to the loss and update the\n",
        "        model parameters using the optimizer.\n",
        "        \"\"\"\n",
        "\n",
        "        ### BEGIN YOUR CODE ###\n",
        "\n",
        "        # Zero out the parameter gradients\n",
        "        model.zero_grad()\n",
        "\n",
        "        # Prepare input data (sentences and gold labels)\n",
        "        sentence_in = prepare_sequence(sentence, word_to_idx).to(device)\n",
        "        targets = prepare_sequence(tags, tag_to_idx).to(device)\n",
        "\n",
        "        # Do forward pass with current batch of input\n",
        "        tag_scores = model(sentence_in)\n",
        "\n",
        "        # print(tag_scores.shape)\n",
        "        # print(targets.shape)\n",
        "\n",
        "        # Get loss with model predictions and true labels\n",
        "        loss = loss_function(tag_scores, targets)\n",
        "\n",
        "        # Update model parameters\n",
        "        loss.backward()\n",
        "        optimizer.step()\n",
        "\n",
        "        # Increase running total loss and the number of past training samples\n",
        "        train_loss += loss\n",
        "        train_examples += targets.size(0)\n",
        "\n",
        "        ### END YOUR CODE ###\n",
        "\n",
        "    avg_train_loss = train_loss / train_examples\n",
        "    avg_val_loss, val_accuracy = evaluate(model, loss_function)\n",
        "\n",
        "    print(f\"Epoch: {epoch}/{EPOCHS}\\tAvg Train Loss: {avg_train_loss:.4f}\\tAvg Val Loss: {avg_val_loss:.4f}\\t Val Accuracy: {val_accuracy:.0f}\")\n",
        "\n",
        "def evaluate(model, loss_function):\n",
        "    \"\"\"\n",
        "    returns:: avg_val_loss (float)\n",
        "    returns:: val_accuracy (float)\n",
        "    \"\"\"\n",
        "    model.eval()\n",
        "    correct = 0\n",
        "    val_loss = 0\n",
        "    val_examples = 0\n",
        "    with torch.no_grad():\n",
        "        for sentence, tags in val_data:\n",
        "            \"\"\"\n",
        "            Implement the evaluate method\n",
        "\n",
        "            Find the average validation loss along with the validation accuracy.\n",
        "            Hint: To find the accuracy, argmax of tag predictions can be used.\n",
        "            \"\"\"\n",
        "            ### BEGIN YOUR CODE ###\n",
        "\n",
        "            # Prepare input data (sentences and gold labels)\n",
        "            sentence_in = prepare_sequence(sentence, word_to_idx).to(device)\n",
        "            targets = prepare_sequence(tags, tag_to_idx).to(device)\n",
        "\n",
        "            # Do forward pass with current batch of input\n",
        "            tag_scores = model(sentence_in)\n",
        "\n",
        "            # Get loss with model predictions and true labels\n",
        "            loss = loss_function(tag_scores, targets)\n",
        "\n",
        "            # Get the predicted labels\n",
        "            pred = tag_scores.data.max(1, keepdim=True)[1]\n",
        "\n",
        "            # Get number of correct prediction\n",
        "            correct += pred.eq(targets.data.view_as(pred)).sum()\n",
        "\n",
        "            # Increase running total loss and the number of past valid samples\n",
        "            val_loss += loss\n",
        "            val_examples += targets.size(0)\n",
        "\n",
        "            ### END YOUR CODE ###\n",
        "    val_accuracy = 100. * correct / val_examples\n",
        "    avg_val_loss = val_loss / val_examples\n",
        "    return avg_val_loss, val_accuracy"
      ]
    },
    {
      "cell_type": "code",
      "execution_count": null,
      "metadata": {
        "colab": {
          "base_uri": "https://localhost:8080/"
        },
        "id": "lsuHjjH1rQeS",
        "outputId": "d936f6ae-ac64-454f-93b2-fa2f51e048fe"
      },
      "outputs": [
        {
          "name": "stdout",
          "output_type": "stream",
          "text": [
            "Epoch: 1/10\tAvg Train Loss: 1.2988\tAvg Val Loss: 0.9798\t Val Accuracy: 72\n",
            "Epoch: 2/10\tAvg Train Loss: 0.8331\tAvg Val Loss: 0.8273\t Val Accuracy: 77\n",
            "Epoch: 3/10\tAvg Train Loss: 0.7247\tAvg Val Loss: 0.8053\t Val Accuracy: 79\n",
            "Epoch: 4/10\tAvg Train Loss: 0.6358\tAvg Val Loss: 0.7592\t Val Accuracy: 80\n",
            "Epoch: 5/10\tAvg Train Loss: 0.6565\tAvg Val Loss: 0.8303\t Val Accuracy: 79\n",
            "Epoch: 6/10\tAvg Train Loss: 0.6462\tAvg Val Loss: 0.8308\t Val Accuracy: 80\n",
            "Epoch: 7/10\tAvg Train Loss: 0.6248\tAvg Val Loss: 0.8125\t Val Accuracy: 80\n",
            "Epoch: 8/10\tAvg Train Loss: 0.7008\tAvg Val Loss: 0.9536\t Val Accuracy: 78\n",
            "Epoch: 9/10\tAvg Train Loss: 0.6674\tAvg Val Loss: 0.9021\t Val Accuracy: 78\n",
            "Epoch: 10/10\tAvg Train Loss: 0.7399\tAvg Val Loss: 0.9943\t Val Accuracy: 76\n"
          ]
        }
      ],
      "source": [
        "\"\"\"\n",
        "Initialize the model, optimizer and the loss function\n",
        "\"\"\"\n",
        "### BEGIN YOUR CODE ###\n",
        "\n",
        "model = BasicPOSTagger(EMBEDDING_DIM, HIDDEN_DIM, len(word_to_idx), len(tag_to_idx)).to(device)\n",
        "loss_function = nn.CrossEntropyLoss(reduction='sum')\n",
        "optimizer = optim.SGD(model.parameters(), lr=LEARNING_RATE)\n",
        "\n",
        "### END YOUR CODE ###\n",
        "\n",
        "for epoch in range(1, EPOCHS + 1):\n",
        "    train(epoch, model, loss_function, optimizer)"
      ]
    },
    {
      "cell_type": "markdown",
      "metadata": {
        "id": "uK6mT_k8NRvB"
      },
      "source": [
        "*Hint: Under the default hyperparameter setting, after 5 epochs you should be able to get at least `0.75` accuracy on the validation set.*"
      ]
    },
    {
      "cell_type": "markdown",
      "metadata": {
        "id": "iP64WDReBuDr"
      },
      "source": [
        "### 1.7 Error analysis [5 points]\n",
        "\n",
        "In this step, we will analyze what kind of errors it was making on the validation set.\n",
        "\n",
        "Step 1, write a method to generate predictions from the validation set. For every sentence, get its words, predicted tags (model_tags), and the ground truth tags (gt_tags). To make the next step easier, you may want to concatenate words from all sentences into a very long list, and same for model_tags and gt_tags.\n",
        "\n",
        "\n",
        "Step 2, analyze what kind of errors the model was making. For example, it may frequently label NN as VB. Let's get the top-10 most frequent types of errors, each of their frequency, and some example words. One example is at below. It is interpreted as the model predicts NNP as VBG for 626 times, five random example words are shown.\n",
        "\n",
        "```\n",
        "['VBG', 'NNP', 626, ['Rowe', 'Livermore', 'Parker', 'F-16', 'HEYNOW']]\n",
        "```"
      ]
    },
    {
      "cell_type": "code",
      "execution_count": null,
      "metadata": {
        "colab": {
          "base_uri": "https://localhost:8080/"
        },
        "id": "4QgMHr7HCn1x",
        "outputId": "fa854920-2ca1-4fc7-a968-261d54ae5a5d"
      },
      "outputs": [
        {
          "name": "stdout",
          "output_type": "stream",
          "text": [
            "['NN', 'NNP', 479, ['Hale', 'Book-of-the-Month', 'Industrial', 'Sheldon', 'Beau']]\n",
            "['NN', 'JJ', 422, ['Atlanta-based', 'longtime', 'perfect', 'then-pending', 'unreported']]\n",
            "['NN', 'VB', 321, ['lure', 'entrust', 'keep', 'house', 'deal']]\n",
            "['CC', 'VBZ', 297, ['imposes', 'indicates', 'includes', 'thinks', 'is']]\n",
            "['NN', 'VBP', 252, ['contend', 'cost', \"'re\", 'qualify', 'do']]\n",
            "['NNS', 'NNP', 251, ['Oswald', 'Ballhaus', 'Clara', 'Norton', 'Kaitaia']]\n",
            "['RB', 'JJ', 227, ['large', 'willing', 'idle', 'few', 'only']]\n",
            "['CC', 'PRP', 205, ['him', 'itself', 'it']]\n",
            "['NN', 'NNS', 200, ['BONDS', 'shirts', 'Taxes', \"'80s\", 'technologies']]\n",
            "['NN', 'VBG', 181, ['talking', 'turning', 'scheduling', 'retiring', 'finishing']]\n"
          ]
        }
      ],
      "source": [
        "def generate_predictions(model, val_data):\n",
        "    \"\"\"\n",
        "    Generate predictions for val_data\n",
        "\n",
        "    Create lists of words, tags predicted by the model and ground truth tags.\n",
        "    Hint: It should look very similar to the evaluate function.\n",
        "\n",
        "    returns:: word_list (str list)\n",
        "    returns:: model_tags (str list)\n",
        "    returns:: gt_tags (str list)\n",
        "    \"\"\"\n",
        "    ### BEGIN YOUR CODE ###\n",
        "\n",
        "    word_list, model_tags, gt_tags = [], [], []\n",
        "    reversed_tag_to_idx = {v:k for k, v in tag_to_idx.items()}\n",
        "\n",
        "    model.eval()\n",
        "    correct = 0\n",
        "    val_loss = 0\n",
        "    val_examples = 0\n",
        "    with torch.no_grad():\n",
        "        for sentence, tags in val_data:\n",
        "            sentence_in = prepare_sequence(sentence, word_to_idx).to(device)\n",
        "            targets = prepare_sequence(tags, tag_to_idx).to(device)\n",
        "            tag_scores = model(sentence_in)\n",
        "            loss = loss_function(tag_scores, targets)\n",
        "            pred = tag_scores.data.max(1, keepdim=True)[1]\n",
        "            correct += pred.eq(targets.data.view_as(pred)).sum()\n",
        "            val_loss += loss\n",
        "            val_examples += targets.size(0)\n",
        "\n",
        "            word_list.extend(sentence)\n",
        "            model_tags.extend([reversed_tag_to_idx[k[0]] for k in pred.tolist()])\n",
        "            gt_tags.extend([reversed_tag_to_idx[k] for k in targets.tolist()])\n",
        "\n",
        "\n",
        "    ### END YOUR CODE ###\n",
        "\n",
        "    return word_list, model_tags, gt_tags\n",
        "\n",
        "def error_analysis(word_list, model_tags, gt_tags):\n",
        "    \"\"\"\"\n",
        "    Carry out error analysis\n",
        "\n",
        "    From those lists collected from the above method, find the\n",
        "    top-10 tuples of (model_tag, ground_truth_tag, frequency, example words)\n",
        "    sorted by frequency\n",
        "\n",
        "    returns: errors (list of tuples)\n",
        "    \"\"\"\n",
        "    ### BEGIN YOUR CODE ###\n",
        "\n",
        "    counter = {}\n",
        "\n",
        "    for w, m, g in zip(word_list, model_tags, gt_tags):\n",
        "      if m == g:\n",
        "        continue\n",
        "      if (m,g) not in counter:\n",
        "        counter[(m,g)] = []\n",
        "\n",
        "      counter[(m,g)].append(w)\n",
        "\n",
        "    counter = dict(sorted(counter.items(), key=lambda item: len(item[1]), reverse = True))\n",
        "\n",
        "    errors = []\n",
        "    for k, v in counter.items():\n",
        "      errors.append(list(k)+[len(v), list(set(v))[:5]])\n",
        "\n",
        "    ### END YOUR CODE ###\n",
        "\n",
        "    return errors\n",
        "\n",
        "word_list, model_tags, gt_tags = generate_predictions(model, val_data)\n",
        "errors = error_analysis(word_list, model_tags, gt_tags)\n",
        "\n",
        "for i in errors[:10]:\n",
        "  print(i)"
      ]
    },
    {
      "cell_type": "markdown",
      "metadata": {
        "id": "PRNjFRDcD2h7"
      },
      "source": [
        "**Report your findings here.**  \n",
        "What kinds of errors did the model make and why do you think it made them?"
      ]
    },
    {
      "cell_type": "markdown",
      "metadata": {
        "id": "sLcI9BUZIo04"
      },
      "source": [
        "## 2. Hyper-parameter Tuning [10 points]\n",
        "\n",
        "In order to improve your model performance, try making some modifications on `EMBEDDING_DIM`, `HIDDEN_DIM`, and `LEARNING_RATE`."
      ]
    },
    {
      "cell_type": "code",
      "execution_count": null,
      "metadata": {
        "colab": {
          "base_uri": "https://localhost:8080/"
        },
        "id": "RekmpLxzIo04",
        "outputId": "3bbaa754-ab1e-4a60-8640-b7ef6540f01d"
      },
      "outputs": [
        {
          "name": "stdout",
          "output_type": "stream",
          "text": [
            "Epoch: 1/10\tAvg Train Loss: 0.8585\tAvg Val Loss: 0.5562\t Val Accuracy: 84\n",
            "Epoch: 2/10\tAvg Train Loss: 0.4304\tAvg Val Loss: 0.4379\t Val Accuracy: 88\n",
            "Epoch: 3/10\tAvg Train Loss: 0.2968\tAvg Val Loss: 0.4059\t Val Accuracy: 90\n",
            "Epoch: 4/10\tAvg Train Loss: 0.2325\tAvg Val Loss: 0.4020\t Val Accuracy: 90\n",
            "Epoch: 5/10\tAvg Train Loss: 0.1914\tAvg Val Loss: 0.3965\t Val Accuracy: 91\n",
            "Epoch: 6/10\tAvg Train Loss: 0.1694\tAvg Val Loss: 0.4084\t Val Accuracy: 91\n",
            "Epoch: 7/10\tAvg Train Loss: 0.1564\tAvg Val Loss: 0.4242\t Val Accuracy: 91\n",
            "Epoch: 8/10\tAvg Train Loss: 0.1482\tAvg Val Loss: 0.4195\t Val Accuracy: 92\n",
            "Epoch: 9/10\tAvg Train Loss: 0.1398\tAvg Val Loss: 0.4229\t Val Accuracy: 92\n",
            "Epoch: 10/10\tAvg Train Loss: 0.1419\tAvg Val Loss: 0.4290\t Val Accuracy: 92\n"
          ]
        }
      ],
      "source": [
        "YOUR_EMBEDDING_DIM = None\n",
        "YOUR_HIDDEN_DIM = None\n",
        "YOUR_LEARNING_RATE = None\n",
        "\n",
        "# Set three hyper-parameters. Initialize the model, optimizer and the loss function\n",
        "# Hint, you may want to use reduction='sum' in the CrossEntropyLoss function\n",
        "\n",
        "### BEGIN YOUR CODE ###\n",
        "\n",
        "YOUR_EMBEDDING_DIM = 16\n",
        "YOUR_HIDDEN_DIM = 32\n",
        "YOUR_LEARNING_RATE = 0.1\n",
        "\n",
        "model = BasicPOSTagger(YOUR_EMBEDDING_DIM, YOUR_HIDDEN_DIM, len(word_to_idx), len(tag_to_idx)).to(device)\n",
        "loss_function = nn.CrossEntropyLoss(reduction='sum')\n",
        "optimizer = optim.SGD(model.parameters(), lr=YOUR_LEARNING_RATE)\n",
        "\n",
        "### END YOUR CODE ###\n",
        "\n",
        "for epoch in range(1, EPOCHS + 1):\n",
        "    train(epoch, model, loss_function, optimizer)"
      ]
    },
    {
      "cell_type": "markdown",
      "metadata": {
        "id": "svXyUssdXZ4r"
      },
      "source": [
        "## 3. Character-level POS Tagger  [15 points]\n",
        "\n",
        "Use the character-level information to augment word embeddings. For example, words that end with -ing or -ly give quite a bit of information about their POS tags. To incorporate this information, run a character-level LSTM on every word to create a character-level representation of the word. Take the last hidden state from the character-level LSTM as the representation and concatenate with the word embedding (as in the `BasicPOSTagger`) to create a new word representation that captures more information."
      ]
    },
    {
      "cell_type": "code",
      "execution_count": null,
      "metadata": {
        "id": "nX4-3AoxSJeY"
      },
      "outputs": [],
      "source": [
        "# Create char to index mapping\n",
        "char_to_idx = {}\n",
        "unique_chars = set()\n",
        "MAX_WORD_LEN = 0\n",
        "\n",
        "for sent in train_sentences:\n",
        "    for word in sent:\n",
        "        for c in word:\n",
        "            unique_chars.add(c)\n",
        "        if len(word) > MAX_WORD_LEN:\n",
        "            MAX_WORD_LEN = len(word)\n",
        "\n",
        "for c in unique_chars:\n",
        "    char_to_idx[c] = len(char_to_idx)\n",
        "char_to_idx[' '] = len(char_to_idx)\n"
      ]
    },
    {
      "cell_type": "markdown",
      "metadata": {
        "id": "8xXPsL3nDjAu"
      },
      "source": [
        "### 3.0 An Aside on Padding\n",
        "\n",
        "#### How to do padding correctly for the characters?\n",
        "\n",
        "\n",
        "Assume we have got a sentence [\"We\", \"love\", \"NLP\"]. You are supposed to first prepend a certain number of blank characters to each of the words in this sentence.\n",
        "\n",
        "How to determine the number of blank characters we need? The calculation of MAX_WORD_LEN is here for help (which we already provide in the starter code). For the given sentence, MAX_WORD_LEN equals 4. Therefore we prepend two blank characters to \"We\", zero blank character to \"love\", and one blank character to \"NLP\". So the resultant padded sentence we get should be [\"  We\", \"love\", \" NLP\"].\n",
        "\n",
        "Then, we feed all characters in [\"  We\", \"love\", \" NLP\"] into a char-embedding layer, and get a tensor of shape (3, 4, char_embedding_dim). To make this tensor's shape proper for the char-level LSTM (nn.LSTM), we need to transpose this tensor, i.e. swap the first and the second dimension. So we get a tensor of shape (4, 3, char_embedding_dim), where 4 corresponds to seq_len and 3 corresponds to batch_size.\n",
        "\n",
        "The last thing you need to do is to obtain the last hidden state from the char-level LSTM, and concatenate it with the word embedding, so that you can get an augmented representation of that word.\n",
        "\n",
        "![padding](https://raw.githubusercontent.com/chaojiang06/chaojiang06.github.io/master/TA/spring2022_CS4650/char_padding.png)\n",
        "  *An illustration for left padding characters*\n",
        "\n",
        "#### Why doing the padding?\n",
        "Someone may ask why we want to do such a kind of padding, instead of directly passing each of the character sequences of each word one by one through an LSTM, to get the last hidden state. The reason is that if you don't do padding, then that means you can only implement this process using \"for loop\". For CharPOSTagger, if you implement it using \"for loop\", the training time would be approximately 150s (GPU) / 250s (CPU) per epoch, while it would be around 30s (GPU) / 150s (CPU) per epoch if you do the padding and feed your data in batches. Therefore, we strongly recommend you learn how to do the padding and transform your data into batches. In fact, those are quite important concepts which you should get yourself familar with, although it might take you some time.\n",
        "\n",
        "#### Why doing *left* padding?\n",
        "Our hypothesis is that the suffixes of English words (e.g., -ly, -ing, etc) are more indicative than prefixes for the part-of-speech (POS). Though LSTM is supposed to be able to handle long sequences, it still lose information along the way and the information closer to the last state (which you use as char-level representations) will be retained better.\n",
        "\n",
        "#### How to understand the dimention change?\n",
        "Assume we have got a sentence with 3 words [\"We\", \"love\", \"NLP\"], and assume the dimension of character embedding is 2, the dimension of word embedding is 4, the dimension of word-level LSTM's hidden layer is 5, the dimension of character-level LSTM's hidden layer is 6.\n",
        "\n",
        "In `BasicPOSTagger`, the dimension change would be:\n",
        "\n",
        "- ------ input ------> $(3\\times 1\\times 4)$\n",
        "- -- word-level LSTM --> $(3\\times 1\\times 5)$\n",
        "- ----- linear layer -----> $(3\\times 1\\times 44)$\n",
        "\n",
        "In `CharPOSTagger`, after padding, character embedding, and swapping, the dimension change would be:\n",
        "\n",
        "- ------ input ------> $(\\text{MAX_WORD_LEN}\\times 3\\times 2)$\n",
        "-  -- character-level LSTM --> $(\\text{MAX_WORD_LEN}\\times 3\\times 6)$\n",
        "- -- Take the last hidden state --> $(3\\times 6)$\n",
        "- -- concatenate with word embedings --> $(3\\times 1\\times 10)$\n",
        "- -- word-level LSTM --> $(3\\times 1\\times 5)$\n",
        "- -- linear layer --> $(3\\times 1\\times 44)$."
      ]
    },
    {
      "cell_type": "code",
      "execution_count": null,
      "metadata": {
        "id": "OMsoXAMDO9-6"
      },
      "outputs": [],
      "source": [
        "EMBEDDING_DIM = 4\n",
        "HIDDEN_DIM = 8\n",
        "LEARNING_RATE = 0.1\n",
        "LSTM_LAYERS = 1\n",
        "DROPOUT = 0\n",
        "EPOCHS = 10\n",
        "CHAR_EMBEDDING_DIM = 4\n",
        "CHAR_HIDDEN_DIM = 4"
      ]
    },
    {
      "cell_type": "markdown",
      "metadata": {
        "id": "D8q2EmxmCNfn"
      },
      "source": [
        "### 3.1 Define Model [5 points]"
      ]
    },
    {
      "cell_type": "code",
      "execution_count": null,
      "metadata": {
        "id": "7U0wb4OeOsde"
      },
      "outputs": [],
      "source": [
        "class CharPOSTagger(nn.Module):\n",
        "    def __init__(self, embedding_dim, hidden_dim, char_embedding_dim,\n",
        "                 char_hidden_dim, char_size, vocab_size, tagset_size):\n",
        "        \"\"\"\n",
        "        Define and initialize anything needed for the forward pass.\n",
        "\n",
        "        You are required to create a model with:\n",
        "          an embedding layer for word: that maps words to their embedding space\n",
        "          an embedding layer for character: that maps characters to their embedding space\n",
        "          a character-level LSTM layer: that finds the character-level embedding for a word\n",
        "          a word-level LSTM layer: that takes the concatenated representation per word (word embedding + char-lstm) as input and outputs hidden states\n",
        "          a linear layer: maps from hidden state space to tag space\n",
        "        \"\"\"\n",
        "        super(CharPOSTagger, self).__init__()\n",
        "\n",
        "        ### BEGIN YOUR CODE ###\n",
        "\n",
        "        self.word_embeddings = nn.Embedding(vocab_size, embedding_dim)\n",
        "        self.char_embeddings = nn.Embedding(char_size, char_embedding_dim)\n",
        "        self.char_lstm = nn.LSTM(char_embedding_dim, char_hidden_dim)\n",
        "        self.lstm = nn.LSTM(char_hidden_dim + embedding_dim, hidden_dim, num_layers=LSTM_LAYERS, dropout=DROPOUT)\n",
        "        self.hidden2tag = nn.Linear(hidden_dim, tagset_size)\n",
        "\n",
        "        ### END YOUR CODE ###\n",
        "\n",
        "    def forward(self, sentence, chars):\n",
        "        tag_scores = None\n",
        "        \"\"\"\n",
        "        Implement the forward pass.\n",
        "\n",
        "        Given a tokenized index-mapped sentence and a character sequence as the arguments,\n",
        "        find the corresponding raw scores for tags (without softmax)\n",
        "\n",
        "        returns:: tag_scores (Tensor)\n",
        "        \"\"\"\n",
        "\n",
        "        ### BEGIN YOUR CODE ###\n",
        "\n",
        "        embeds = self.word_embeddings(sentence)\n",
        "        embedc = self.char_embeddings(chars)\n",
        "        # print(\"A\", embedc.shape)\n",
        "        lstm_char_in = torch.transpose(embedc.view(len(sentence), MAX_WORD_LEN, -1), 0, 1)\n",
        "        # print(\"B\", lstm_char_in.shape)\n",
        "        _, char_lstm_out = self.char_lstm(lstm_char_in)\n",
        "        # print(\"C\", char_lstm_out[0].shape)\n",
        "        merge_out = torch.cat((embeds.view(len(sentence), -1), char_lstm_out[0].view(len(sentence), -1)), 1)\n",
        "        lstm_out, _ = self.lstm(merge_out.view(len(sentence), 1, -1))\n",
        "        tag_scores = self.hidden2tag(lstm_out.view(len(sentence), -1))\n",
        "\n",
        "        ### END YOUR CODE ###\n",
        "\n",
        "        return tag_scores"
      ]
    },
    {
      "cell_type": "markdown",
      "metadata": {
        "id": "IXke-HReCdkq"
      },
      "source": [
        "### 3.2 Training [5 points]"
      ]
    },
    {
      "cell_type": "code",
      "execution_count": null,
      "metadata": {
        "id": "ll3IHzmiSxf6"
      },
      "outputs": [],
      "source": [
        "def train_char(epoch, model, loss_function, optimizer):\n",
        "    model.train()\n",
        "    train_loss = 0\n",
        "    train_examples = 0\n",
        "    for sentence, tags in training_data:\n",
        "        \"\"\"\n",
        "        Implement the training method\n",
        "\n",
        "        Hint: you can use the prepare_sequence method for creating index mappings\n",
        "          for sentences. For constructing character input, you may want to left pad\n",
        "          each word to MAX_WORD_LEN first, then use prepare_sequence method to create\n",
        "          index  mappings.\n",
        "        \"\"\"\n",
        "\n",
        "        ### BEGIN YOUR CODE ###\n",
        "\n",
        "        # Zero out the parameter gradients\n",
        "        optimizer.zero_grad()\n",
        "\n",
        "        # Prepare input data (sentences, characters, and gold labels)\n",
        "        sentence_in = prepare_sequence(sentence, word_to_idx).to(device)\n",
        "        sent_chars = []\n",
        "        for w in sentence:\n",
        "            sps = ' ' * (MAX_WORD_LEN - len(w))\n",
        "            sent_chars.extend(list(sps + w))\n",
        "        char_in = prepare_sequence(sent_chars, char_to_idx).to(device)\n",
        "        targets = prepare_sequence(tags, tag_to_idx).to(device)\n",
        "\n",
        "        # Do forward pass with current batch of input\n",
        "        tag_scores = model(sentence_in, char_in)\n",
        "\n",
        "        # Get loss with model predictions and true labels\n",
        "        loss = loss_function(tag_scores, targets)\n",
        "\n",
        "        # Update model parameters\n",
        "        loss.backward()\n",
        "        optimizer.step()\n",
        "\n",
        "        # Increase running total loss and the number of past training samples\n",
        "        train_loss += loss\n",
        "        train_examples += targets.size(0)\n",
        "\n",
        "        ### END YOUR CODE ###\n",
        "\n",
        "    avg_train_loss = train_loss / train_examples\n",
        "    avg_val_loss, val_accuracy = evaluate_char(model, loss_function)\n",
        "\n",
        "    print(f\"Epoch: {epoch}/{EPOCHS}\\tAvg Train Loss: {avg_train_loss:.4f}\\tAvg Val Loss: {avg_val_loss:.4f}\\t Val Accuracy: {val_accuracy:.0f}\")\n",
        "\n",
        "def evaluate_char(model, loss_function):\n",
        "    \"\"\"\n",
        "    returns:: avg_val_loss (float)\n",
        "    returns:: val_accuracy (float)\n",
        "    \"\"\"\n",
        "    model.eval()\n",
        "    correct = 0\n",
        "    val_loss = 0\n",
        "    val_examples = 0\n",
        "    with torch.no_grad():\n",
        "        for sentence, tags in val_data:\n",
        "            \"\"\"\n",
        "            Implement the evaluate method. Find the average validation loss\n",
        "            along with the validation accuracy.\n",
        "\n",
        "            Hint: To find the accuracy, argmax of tag predictions can be used.\n",
        "            \"\"\"\n",
        "\n",
        "            ### BEGIN YOUR CODE ###\n",
        "\n",
        "            # Prepare input data (sentences, characters, and gold labels)\n",
        "            sentence_in = prepare_sequence(sentence, word_to_idx).to(device)\n",
        "            sent_chars = []\n",
        "            for w in sentence:\n",
        "                sps = ' ' * (MAX_WORD_LEN - len(w))\n",
        "                sent_chars.extend(list(sps + w))\n",
        "            char_in = prepare_sequence(sent_chars, char_to_idx).to(device)\n",
        "            targets = prepare_sequence(tags, tag_to_idx).to(device)\n",
        "\n",
        "            # Do forward pass with current batch of input\n",
        "            tag_scores = model(sentence_in, char_in)\n",
        "\n",
        "            # Get loss with model predictions and true labels\n",
        "            loss = loss_function(tag_scores, targets)\n",
        "\n",
        "            # Get the predicted labels\n",
        "            pred = tag_scores.data.max(1, keepdim=True)[1]\n",
        "\n",
        "            # Get number of correct prediction\n",
        "            correct += pred.eq(targets.data.view_as(pred)).sum()\n",
        "\n",
        "            # Increase running total loss and the number of past valid samples\n",
        "            val_loss += loss\n",
        "            val_examples += targets.size(0)\n",
        "\n",
        "            ### END YOUR CODE ###\n",
        "    val_accuracy = 100. * correct / val_examples\n",
        "    avg_val_loss = val_loss / val_examples\n",
        "    return avg_val_loss, val_accuracy"
      ]
    },
    {
      "cell_type": "code",
      "execution_count": null,
      "metadata": {
        "colab": {
          "background_save": true,
          "base_uri": "https://localhost:8080/"
        },
        "id": "6-QttCw6Otf-",
        "outputId": "7870f9d8-6f1d-4be5-ef6b-1736937f163b"
      },
      "outputs": [
        {
          "name": "stdout",
          "output_type": "stream",
          "text": [
            "Epoch: 1/10\tAvg Train Loss: 1.0266\tAvg Val Loss: 0.6992\t Val Accuracy: 79\n",
            "Epoch: 2/10\tAvg Train Loss: 0.6178\tAvg Val Loss: 0.5555\t Val Accuracy: 84\n",
            "Epoch: 3/10\tAvg Train Loss: 0.5131\tAvg Val Loss: 0.5419\t Val Accuracy: 84\n",
            "Epoch: 4/10\tAvg Train Loss: 0.4227\tAvg Val Loss: 0.5676\t Val Accuracy: 84\n",
            "Epoch: 5/10\tAvg Train Loss: 0.4728\tAvg Val Loss: 0.5139\t Val Accuracy: 86\n",
            "Epoch: 6/10\tAvg Train Loss: 0.3841\tAvg Val Loss: 0.4611\t Val Accuracy: 88\n",
            "Epoch: 7/10\tAvg Train Loss: 0.3642\tAvg Val Loss: 0.4574\t Val Accuracy: 88\n",
            "Epoch: 8/10\tAvg Train Loss: 0.3606\tAvg Val Loss: 0.4749\t Val Accuracy: 88\n",
            "Epoch: 9/10\tAvg Train Loss: 0.4322\tAvg Val Loss: 0.6087\t Val Accuracy: 86\n",
            "Epoch: 10/10\tAvg Train Loss: 0.6868\tAvg Val Loss: 0.7435\t Val Accuracy: 81\n"
          ]
        }
      ],
      "source": [
        "# Initialize the model, optimizer and the loss function\n",
        "# Hint, you may want to use reduction='sum' in the CrossEntropyLoss function\n",
        "\n",
        "### BEGIN YOUR CODE ###\n",
        "\n",
        "model = CharPOSTagger(EMBEDDING_DIM, HIDDEN_DIM, CHAR_EMBEDDING_DIM, CHAR_HIDDEN_DIM,\n",
        "                      len(char_to_idx), len(word_to_idx), len(tag_to_idx)).to(device)\n",
        "loss_function = nn.CrossEntropyLoss(reduction='sum')\n",
        "optimizer = optim.SGD(model.parameters(), lr=LEARNING_RATE)\n",
        "\n",
        "### END YOUR CODE ###\n",
        "\n",
        "for epoch in range(1, EPOCHS + 1):\n",
        "    train_char(epoch, model, loss_function, optimizer)"
      ]
    },
    {
      "cell_type": "markdown",
      "metadata": {
        "id": "xslNYW8EBKMQ"
      },
      "source": [
        "*Hint: Under the default hyperparameter setting, after 5 epochs you should be able to get at least `0.85` accuracy on the validation set.*"
      ]
    },
    {
      "cell_type": "markdown",
      "metadata": {
        "id": "YtsHtaCQIo05"
      },
      "source": [
        "### 3.3 Error analysis [5 points]\n",
        "Write a method to generate predictions for the validation set.\n",
        "Create lists of words, tags predicted by the model and ground truth tags.\n",
        "\n",
        "Then use these lists to carry out error analysis to find the top-10 types of errors made by the model.\n",
        "\n",
        "This part is very similar to part 1.7. You may want to refer to your implementation there."
      ]
    },
    {
      "cell_type": "code",
      "execution_count": null,
      "metadata": {
        "colab": {
          "background_save": true
        },
        "id": "0vUawGsWIo06",
        "outputId": "3f2ebba3-80ab-47ad-8aa2-f3e165919a4e"
      },
      "outputs": [
        {
          "name": "stdout",
          "output_type": "stream",
          "text": [
            "['NN', 'JJ', 632, ['nutritional', 'longtime', 'idle', 'antiquated', 'top-level']]\n",
            "['NN', 'NNP', 395, ['Oswald', 'Book-of-the-Month', 'Shattuck', 'CARE', 'Popular']]\n",
            "['TO', '$', 308, ['$']]\n",
            "['NNP', 'JJ', 206, ['willing', 'Sino-foreign', 'unfortunate', '30-pound', 'Still']]\n",
            "['CD', 'IN', 198, ['IN', 'against', 'along', 'After', 'Since']]\n",
            "['NNP', 'RB', 180, ['visually', 'Still', 'Ever', 'moderately', 'steadfastly']]\n",
            "['VBN', 'VBD', 180, ['waited', 'got', 'forced', 'asserted', 'favored']]\n",
            "['VBG', 'VBN', 179, ['needed', 'paid', 'considered', 'reduced', 'purchased']]\n",
            "['NNS', 'VBZ', 178, ['develops', 'marks', 'prods', 'isolates', 'starts']]\n",
            "['NN', 'VB', 177, ['replace', 'entrust', 'deal', 'supply', 'redeem']]\n"
          ]
        }
      ],
      "source": [
        "def generate_predictions(model, val_data):\n",
        "    \"\"\"\n",
        "    Generate predictions for val_data\n",
        "\n",
        "    Create lists of words, tags predicted by the model and ground truth tags.\n",
        "    Hint: It should look very similar to the evaluate function.\n",
        "\n",
        "    returns:: word_list (str list)\n",
        "    returns:: model_tags (str list)\n",
        "    returns:: gt_tags (str list)\n",
        "    \"\"\"\n",
        "    ### BEGIN YOUR CODE ###\n",
        "\n",
        "    word_list, model_tags, gt_tags = [], [], []\n",
        "    reversed_tag_to_idx = {v:k for k, v in tag_to_idx.items()}\n",
        "\n",
        "    model.eval()\n",
        "    correct = 0\n",
        "    val_loss = 0\n",
        "    val_examples = 0\n",
        "    with torch.no_grad():\n",
        "        for sentence, tags in val_data:\n",
        "            sentence_in = prepare_sequence(sentence, word_to_idx).to(device)\n",
        "            sent_chars = []\n",
        "            for w in sentence:\n",
        "                sps = ' ' * (MAX_WORD_LEN - len(w))\n",
        "                sent_chars.extend(list(sps + w))\n",
        "            char_in = prepare_sequence(sent_chars, char_to_idx).to(device)\n",
        "            targets = prepare_sequence(tags, tag_to_idx).to(device)\n",
        "            tag_scores = model(sentence_in, char_in)\n",
        "            loss = loss_function(tag_scores, targets)\n",
        "            pred = tag_scores.data.max(1, keepdim=True)[1]\n",
        "\n",
        "            word_list.extend(sentence)\n",
        "            model_tags.extend([reversed_tag_to_idx[k[0]] for k in pred.tolist()])\n",
        "            gt_tags.extend([reversed_tag_to_idx[k] for k in targets.tolist()])\n",
        "\n",
        "    ### END YOUR CODE ###\n",
        "\n",
        "    return word_list, model_tags, gt_tags\n",
        "\n",
        "def error_analysis(word_list, model_tags, gt_tags):\n",
        "    \"\"\"\n",
        "    Carry out error analysis\n",
        "\n",
        "    From those lists collected from the above method, find the\n",
        "    top-10 tuples of (model_tag, ground_truth_tag, frequency, example words)\n",
        "    sorted by frequency\n",
        "\n",
        "    returns: errors (list of tuples)\n",
        "    \"\"\"\n",
        "    ### BEGIN YOUR CODE ###\n",
        "\n",
        "    counter = {}\n",
        "\n",
        "    for w, m, g in zip(word_list, model_tags, gt_tags):\n",
        "      if m == g:\n",
        "        continue\n",
        "      if (m,g) not in counter:\n",
        "        counter[(m,g)] = []\n",
        "\n",
        "      counter[(m,g)].append(w)\n",
        "\n",
        "    counter = dict(sorted(counter.items(), key=lambda item: len(item[1]), reverse = True))\n",
        "\n",
        "    errors = []\n",
        "    for k, v in counter.items():\n",
        "      errors.append(list(k)+[len(v), list(set(v))[:5]])\n",
        "\n",
        "    ### END YOUR CODE ###\n",
        "\n",
        "    return errors\n",
        "\n",
        "word_list, model_tags, gt_tags = generate_predictions(model, val_data)\n",
        "errors = error_analysis(word_list, model_tags, gt_tags)\n",
        "\n",
        "for i in errors[:10]:\n",
        "  print(i)"
      ]
    },
    {
      "cell_type": "markdown",
      "metadata": {
        "id": "IuLl_BSMeovb"
      },
      "source": [
        "**Report your findings here.**  \n",
        "What kinds of errors does the character-level model make as compared to the original model, and why do you think it made them?"
      ]
    },
    {
      "cell_type": "markdown",
      "metadata": {
        "id": "aq_OJgjgG4rZ"
      },
      "source": [
        "## 4. Fine-tuned BERT POS Tagger [Extra Credit - 5 points]\n",
        "\n",
        "In the above sections, we trained sequence-based models for POS tagging on a fairly limited dataset of *labeled* part of speech data. However, we can imagine the model is having to both learn the basics of language *and* part of speech tagging simultaneously. Perhaps, we can use a model pre-trained on a much larger corpus of language, and *fine-tune* the model on our specific task.\n",
        "\n",
        "For this, we can use **BERT** (see [*Pre-training of Deep Bidirectional Transformers for Language Understanding*](https://aclanthology.org/N19-1423.pdf) NAACL, 2019). BERT introduces a method of pre-training a transformer encoder and fine-tuning the encoder on downstream tasks, and is extrordinarily infuential in NLP research and engineering (e.g., [`bert-base-uncased`](https://huggingface.co/bert-base-uncased) has 45M downloads per month from Huggingface). The core idea is *transfer learning*, or that pre-training on a self-supervised mask language modeling objective can help with our downstream language task of POS tagging. For a step-by-step introduction to the BERT architecture, please see Jay Almmar's [The Illustrated BERT](http://jalammar.github.io/illustrated-bert/).\n",
        "\n",
        "This section will walk you through the use of the popular **Huggingface Transformers** library (see [*Transformers: State-of-the-Art Natural Language Processing*](https://aclanthology.org/2020.emnlp-demos.6), the [HuggingFace Documentation](https://huggingface.co/transformers/) and [Abhishek Mishra's HF tutorial](https://github.com/abhimishra91/transformers-tutorials)), which is a widely used library for distributing and using transformer models. Luckily, we can think of the HuggingFace library as a wrapper on top of PyTorch, so these sections should look familiar to your work so far.\n",
        "\n",
        "**For this extra credit section, we will use a pre-trained BERT model, and fine-tune it on the POS tagging task.**"
      ]
    },
    {
      "cell_type": "markdown",
      "metadata": {
        "id": "ZqdytEvMxvw7"
      },
      "source": [
        "### 4.1 Install `transformers` and download DistilBERT\n",
        "\n",
        "For your fine-tuning code to run a bit faster, we will use a smaller \"distilled\" version of BERT called **DistilBERT** (see [*DistilBERT, a distilled version of BERT: smaller, faster, cheaper and lighter*](https://arxiv.org/abs/1910.01108)). Fortunately with the `transformers` library, we could swap out the underlying model with no code changes to our dataloaders, architecture or traning setup!"
      ]
    },
    {
      "cell_type": "code",
      "execution_count": null,
      "metadata": {
        "colab": {
          "background_save": true
        },
        "id": "GmflGqglVQUs",
        "outputId": "0868003d-6263-4431-8826-e3cc228daa9d"
      },
      "outputs": [
        {
          "name": "stdout",
          "output_type": "stream",
          "text": [
            "\u001b[2K     \u001b[90m━━━━━━━━━━━━━━━━━━━━━━━━━━━━━━━━━━━━━━━━\u001b[0m \u001b[32m3.6/3.6 MB\u001b[0m \u001b[31m39.9 MB/s\u001b[0m eta \u001b[36m0:00:00\u001b[0m\n",
            "\u001b[2K     \u001b[90m━━━━━━━━━━━━━━━━━━━━━━━━━━━━━━━━━━━━━━━━\u001b[0m \u001b[32m8.4/8.4 MB\u001b[0m \u001b[31m84.7 MB/s\u001b[0m eta \u001b[36m0:00:00\u001b[0m\n",
            "\u001b[?25h"
          ]
        }
      ],
      "source": [
        "!pip install -qU tokenizers transformers"
      ]
    },
    {
      "cell_type": "code",
      "execution_count": null,
      "metadata": {
        "colab": {
          "background_save": true
        },
        "id": "VdrScuFAVLD2",
        "outputId": "c4cafd77-81db-4afc-a3f7-22fd6af492cd"
      },
      "outputs": [
        {
          "ename": "RuntimeError",
          "evalue": "Failed to import transformers.models.distilbert because of the following error (look up to see its traceback):\ncannot import name 'is_g2p_en_available' from 'transformers.utils' (/usr/local/lib/python3.10/dist-packages/transformers/utils/__init__.py)",
          "output_type": "error",
          "traceback": [
            "\u001b[0;31m---------------------------------------------------------------------------\u001b[0m",
            "\u001b[0;31mImportError\u001b[0m                               Traceback (most recent call last)",
            "\u001b[0;32m/usr/local/lib/python3.10/dist-packages/transformers/utils/import_utils.py\u001b[0m in \u001b[0;36m_get_module\u001b[0;34m(self, module_name)\u001b[0m\n\u001b[1;32m   1352\u001b[0m             \u001b[0mvalue\u001b[0m \u001b[0;34m=\u001b[0m \u001b[0mself\u001b[0m\u001b[0;34m.\u001b[0m\u001b[0m_get_module\u001b[0m\u001b[0;34m(\u001b[0m\u001b[0mname\u001b[0m\u001b[0;34m)\u001b[0m\u001b[0;34m\u001b[0m\u001b[0;34m\u001b[0m\u001b[0m\n\u001b[0;32m-> 1353\u001b[0;31m         \u001b[0;32melif\u001b[0m \u001b[0mname\u001b[0m \u001b[0;32min\u001b[0m \u001b[0mself\u001b[0m\u001b[0;34m.\u001b[0m\u001b[0m_class_to_module\u001b[0m\u001b[0;34m.\u001b[0m\u001b[0mkeys\u001b[0m\u001b[0;34m(\u001b[0m\u001b[0;34m)\u001b[0m\u001b[0;34m:\u001b[0m\u001b[0;34m\u001b[0m\u001b[0;34m\u001b[0m\u001b[0m\n\u001b[0m\u001b[1;32m   1354\u001b[0m             \u001b[0mmodule\u001b[0m \u001b[0;34m=\u001b[0m \u001b[0mself\u001b[0m\u001b[0;34m.\u001b[0m\u001b[0m_get_module\u001b[0m\u001b[0;34m(\u001b[0m\u001b[0mself\u001b[0m\u001b[0;34m.\u001b[0m\u001b[0m_class_to_module\u001b[0m\u001b[0;34m[\u001b[0m\u001b[0mname\u001b[0m\u001b[0;34m]\u001b[0m\u001b[0;34m)\u001b[0m\u001b[0;34m\u001b[0m\u001b[0;34m\u001b[0m\u001b[0m\n",
            "\u001b[0;32m/usr/lib/python3.10/importlib/__init__.py\u001b[0m in \u001b[0;36mimport_module\u001b[0;34m(name, package)\u001b[0m\n\u001b[1;32m    125\u001b[0m             \u001b[0mlevel\u001b[0m \u001b[0;34m+=\u001b[0m \u001b[0;36m1\u001b[0m\u001b[0;34m\u001b[0m\u001b[0;34m\u001b[0m\u001b[0m\n\u001b[0;32m--> 126\u001b[0;31m     \u001b[0;32mreturn\u001b[0m \u001b[0m_bootstrap\u001b[0m\u001b[0;34m.\u001b[0m\u001b[0m_gcd_import\u001b[0m\u001b[0;34m(\u001b[0m\u001b[0mname\u001b[0m\u001b[0;34m[\u001b[0m\u001b[0mlevel\u001b[0m\u001b[0;34m:\u001b[0m\u001b[0;34m]\u001b[0m\u001b[0;34m,\u001b[0m \u001b[0mpackage\u001b[0m\u001b[0;34m,\u001b[0m \u001b[0mlevel\u001b[0m\u001b[0;34m)\u001b[0m\u001b[0;34m\u001b[0m\u001b[0;34m\u001b[0m\u001b[0m\n\u001b[0m\u001b[1;32m    127\u001b[0m \u001b[0;34m\u001b[0m\u001b[0m\n",
            "\u001b[0;32m/usr/lib/python3.10/importlib/_bootstrap.py\u001b[0m in \u001b[0;36m_gcd_import\u001b[0;34m(name, package, level)\u001b[0m\n",
            "\u001b[0;32m/usr/lib/python3.10/importlib/_bootstrap.py\u001b[0m in \u001b[0;36m_find_and_load\u001b[0;34m(name, import_)\u001b[0m\n",
            "\u001b[0;32m/usr/lib/python3.10/importlib/_bootstrap.py\u001b[0m in \u001b[0;36m_find_and_load_unlocked\u001b[0;34m(name, import_)\u001b[0m\n",
            "\u001b[0;32m/usr/lib/python3.10/importlib/_bootstrap.py\u001b[0m in \u001b[0;36m_call_with_frames_removed\u001b[0;34m(f, *args, **kwds)\u001b[0m\n",
            "\u001b[0;32m/usr/lib/python3.10/importlib/_bootstrap.py\u001b[0m in \u001b[0;36m_gcd_import\u001b[0;34m(name, package, level)\u001b[0m\n",
            "\u001b[0;32m/usr/lib/python3.10/importlib/_bootstrap.py\u001b[0m in \u001b[0;36m_find_and_load\u001b[0;34m(name, import_)\u001b[0m\n",
            "\u001b[0;32m/usr/lib/python3.10/importlib/_bootstrap.py\u001b[0m in \u001b[0;36m_find_and_load_unlocked\u001b[0;34m(name, import_)\u001b[0m\n",
            "\u001b[0;32m/usr/lib/python3.10/importlib/_bootstrap.py\u001b[0m in \u001b[0;36m_load_unlocked\u001b[0;34m(spec)\u001b[0m\n",
            "\u001b[0;32m/usr/lib/python3.10/importlib/_bootstrap_external.py\u001b[0m in \u001b[0;36mexec_module\u001b[0;34m(self, module)\u001b[0m\n",
            "\u001b[0;32m/usr/lib/python3.10/importlib/_bootstrap.py\u001b[0m in \u001b[0;36m_call_with_frames_removed\u001b[0;34m(f, *args, **kwds)\u001b[0m\n",
            "\u001b[0;32m/usr/local/lib/python3.10/dist-packages/transformers/models/__init__.py\u001b[0m in \u001b[0;36m<module>\u001b[0;34m\u001b[0m\n\u001b[1;32m     14\u001b[0m \u001b[0;34m\u001b[0m\u001b[0m\n\u001b[0;32m---> 15\u001b[0;31m from . import (\n\u001b[0m\u001b[1;32m     16\u001b[0m     \u001b[0malbert\u001b[0m\u001b[0;34m,\u001b[0m\u001b[0;34m\u001b[0m\u001b[0;34m\u001b[0m\u001b[0m\n",
            "\u001b[0;32m/usr/local/lib/python3.10/dist-packages/transformers/models/dpt/__init__.py\u001b[0m in \u001b[0;36m<module>\u001b[0;34m\u001b[0m\n\u001b[1;32m     15\u001b[0m \u001b[0;34m\u001b[0m\u001b[0m\n\u001b[0;32m---> 16\u001b[0;31m \u001b[0;32mfrom\u001b[0m \u001b[0;34m...\u001b[0m\u001b[0mfile_utils\u001b[0m \u001b[0;32mimport\u001b[0m \u001b[0m_LazyModule\u001b[0m\u001b[0;34m,\u001b[0m \u001b[0mis_tokenizers_available\u001b[0m\u001b[0;34m,\u001b[0m \u001b[0mis_torch_available\u001b[0m\u001b[0;34m,\u001b[0m \u001b[0mis_vision_available\u001b[0m\u001b[0;34m\u001b[0m\u001b[0;34m\u001b[0m\u001b[0m\n\u001b[0m\u001b[1;32m     17\u001b[0m \u001b[0;32mfrom\u001b[0m \u001b[0;34m...\u001b[0m\u001b[0mutils\u001b[0m \u001b[0;32mimport\u001b[0m \u001b[0mOptionalDependencyNotAvailable\u001b[0m\u001b[0;34m\u001b[0m\u001b[0;34m\u001b[0m\u001b[0m\n",
            "\u001b[0;32m/usr/local/lib/python3.10/dist-packages/transformers/file_utils.py\u001b[0m in \u001b[0;36m<module>\u001b[0;34m\u001b[0m\n\u001b[1;32m     25\u001b[0m \u001b[0;31m# Backward compatibility imports, to make sure all those objects can be found in file_utils\u001b[0m\u001b[0;34m\u001b[0m\u001b[0;34m\u001b[0m\u001b[0m\n\u001b[0;32m---> 26\u001b[0;31m from .utils import (\n\u001b[0m\u001b[1;32m     27\u001b[0m     \u001b[0mCLOUDFRONT_DISTRIB_PREFIX\u001b[0m\u001b[0;34m,\u001b[0m\u001b[0;34m\u001b[0m\u001b[0;34m\u001b[0m\u001b[0m\n",
            "\u001b[0;31mImportError\u001b[0m: cannot import name 'is_g2p_en_available' from 'transformers.utils' (/usr/local/lib/python3.10/dist-packages/transformers/utils/__init__.py)",
            "\nThe above exception was the direct cause of the following exception:\n",
            "\u001b[0;31mRuntimeError\u001b[0m                              Traceback (most recent call last)",
            "\u001b[0;32m<ipython-input-20-f1baaed17acb>\u001b[0m in \u001b[0;36m<cell line: 5>\u001b[0;34m()\u001b[0m\n\u001b[1;32m      3\u001b[0m \u001b[0;31m# https://huggingface.co/transformers/pretrained_models.html\u001b[0m\u001b[0;34m\u001b[0m\u001b[0;34m\u001b[0m\u001b[0m\n\u001b[1;32m      4\u001b[0m \u001b[0;34m\u001b[0m\u001b[0m\n\u001b[0;32m----> 5\u001b[0;31m \u001b[0;32mfrom\u001b[0m \u001b[0mtransformers\u001b[0m \u001b[0;32mimport\u001b[0m \u001b[0mDistilBertModel\u001b[0m\u001b[0;34m,\u001b[0m \u001b[0mDistilBertTokenizerFast\u001b[0m\u001b[0;34m\u001b[0m\u001b[0;34m\u001b[0m\u001b[0m\n\u001b[0m\u001b[1;32m      6\u001b[0m \u001b[0mbert_model\u001b[0m \u001b[0;34m=\u001b[0m \u001b[0mDistilBertModel\u001b[0m\u001b[0;34m.\u001b[0m\u001b[0mfrom_pretrained\u001b[0m\u001b[0;34m(\u001b[0m\u001b[0;34m'distilbert-base-uncased'\u001b[0m\u001b[0;34m)\u001b[0m\u001b[0;34m\u001b[0m\u001b[0;34m\u001b[0m\u001b[0m\n\u001b[1;32m      7\u001b[0m \u001b[0mtokenizer\u001b[0m \u001b[0;34m=\u001b[0m \u001b[0mDistilBertTokenizerFast\u001b[0m\u001b[0;34m.\u001b[0m\u001b[0mfrom_pretrained\u001b[0m\u001b[0;34m(\u001b[0m\u001b[0;34m'distilbert-base-uncased'\u001b[0m\u001b[0;34m)\u001b[0m\u001b[0;34m\u001b[0m\u001b[0;34m\u001b[0m\u001b[0m\n",
            "\u001b[0;32m/usr/lib/python3.10/importlib/_bootstrap.py\u001b[0m in \u001b[0;36m_handle_fromlist\u001b[0;34m(module, fromlist, import_, recursive)\u001b[0m\n",
            "\u001b[0;32m/usr/local/lib/python3.10/dist-packages/transformers/utils/import_utils.py\u001b[0m in \u001b[0;36m__getattr__\u001b[0;34m(self, name)\u001b[0m\n\u001b[1;32m   1341\u001b[0m         \u001b[0;31m# The elements of self.__all__ that are submodules may or may not be in the dir already, depending on whether\u001b[0m\u001b[0;34m\u001b[0m\u001b[0;34m\u001b[0m\u001b[0m\n\u001b[1;32m   1342\u001b[0m         \u001b[0;31m# they have been accessed or not. So we only add the elements of self.__all__ that are not already in the dir.\u001b[0m\u001b[0;34m\u001b[0m\u001b[0;34m\u001b[0m\u001b[0m\n\u001b[0;32m-> 1343\u001b[0;31m         \u001b[0;32mfor\u001b[0m \u001b[0mattr\u001b[0m \u001b[0;32min\u001b[0m \u001b[0mself\u001b[0m\u001b[0;34m.\u001b[0m\u001b[0m__all__\u001b[0m\u001b[0;34m:\u001b[0m\u001b[0;34m\u001b[0m\u001b[0;34m\u001b[0m\u001b[0m\n\u001b[0m\u001b[1;32m   1344\u001b[0m             \u001b[0;32mif\u001b[0m \u001b[0mattr\u001b[0m \u001b[0;32mnot\u001b[0m \u001b[0;32min\u001b[0m \u001b[0mresult\u001b[0m\u001b[0;34m:\u001b[0m\u001b[0;34m\u001b[0m\u001b[0;34m\u001b[0m\u001b[0m\n\u001b[1;32m   1345\u001b[0m                 \u001b[0mresult\u001b[0m\u001b[0;34m.\u001b[0m\u001b[0mappend\u001b[0m\u001b[0;34m(\u001b[0m\u001b[0mattr\u001b[0m\u001b[0;34m)\u001b[0m\u001b[0;34m\u001b[0m\u001b[0;34m\u001b[0m\u001b[0m\n",
            "\u001b[0;32m/usr/local/lib/python3.10/dist-packages/transformers/utils/import_utils.py\u001b[0m in \u001b[0;36m_get_module\u001b[0;34m(self, module_name)\u001b[0m\n\u001b[1;32m   1353\u001b[0m         \u001b[0;32melif\u001b[0m \u001b[0mname\u001b[0m \u001b[0;32min\u001b[0m \u001b[0mself\u001b[0m\u001b[0;34m.\u001b[0m\u001b[0m_class_to_module\u001b[0m\u001b[0;34m.\u001b[0m\u001b[0mkeys\u001b[0m\u001b[0;34m(\u001b[0m\u001b[0;34m)\u001b[0m\u001b[0;34m:\u001b[0m\u001b[0;34m\u001b[0m\u001b[0;34m\u001b[0m\u001b[0m\n\u001b[1;32m   1354\u001b[0m             \u001b[0mmodule\u001b[0m \u001b[0;34m=\u001b[0m \u001b[0mself\u001b[0m\u001b[0;34m.\u001b[0m\u001b[0m_get_module\u001b[0m\u001b[0;34m(\u001b[0m\u001b[0mself\u001b[0m\u001b[0;34m.\u001b[0m\u001b[0m_class_to_module\u001b[0m\u001b[0;34m[\u001b[0m\u001b[0mname\u001b[0m\u001b[0;34m]\u001b[0m\u001b[0;34m)\u001b[0m\u001b[0;34m\u001b[0m\u001b[0;34m\u001b[0m\u001b[0m\n\u001b[0;32m-> 1355\u001b[0;31m             \u001b[0mvalue\u001b[0m \u001b[0;34m=\u001b[0m \u001b[0mgetattr\u001b[0m\u001b[0;34m(\u001b[0m\u001b[0mmodule\u001b[0m\u001b[0;34m,\u001b[0m \u001b[0mname\u001b[0m\u001b[0;34m)\u001b[0m\u001b[0;34m\u001b[0m\u001b[0;34m\u001b[0m\u001b[0m\n\u001b[0m\u001b[1;32m   1356\u001b[0m         \u001b[0;32melse\u001b[0m\u001b[0;34m:\u001b[0m\u001b[0;34m\u001b[0m\u001b[0;34m\u001b[0m\u001b[0m\n\u001b[1;32m   1357\u001b[0m             \u001b[0;32mraise\u001b[0m \u001b[0mAttributeError\u001b[0m\u001b[0;34m(\u001b[0m\u001b[0;34mf\"module {self.__name__} has no attribute {name}\"\u001b[0m\u001b[0;34m)\u001b[0m\u001b[0;34m\u001b[0m\u001b[0;34m\u001b[0m\u001b[0m\n",
            "\u001b[0;31mRuntimeError\u001b[0m: Failed to import transformers.models.distilbert because of the following error (look up to see its traceback):\ncannot import name 'is_g2p_en_available' from 'transformers.utils' (/usr/local/lib/python3.10/dist-packages/transformers/utils/__init__.py)"
          ]
        }
      ],
      "source": [
        "# If you are interested in what other models are available, you can find a\n",
        "# list of model names here (e.g., roberta-base, bert-base-uncased):\n",
        "# https://huggingface.co/transformers/pretrained_models.html\n",
        "\n",
        "from transformers import DistilBertModel, DistilBertTokenizerFast\n",
        "bert_model = DistilBertModel.from_pretrained('distilbert-base-uncased')\n",
        "tokenizer = DistilBertTokenizerFast.from_pretrained('distilbert-base-uncased')"
      ]
    },
    {
      "cell_type": "code",
      "execution_count": null,
      "metadata": {
        "colab": {
          "background_save": true
        },
        "id": "Xo-3KhmgVcQi"
      },
      "outputs": [],
      "source": [
        "# Let's take a look at our DistilBERT architecture\n",
        "bert_model"
      ]
    },
    {
      "cell_type": "markdown",
      "metadata": {
        "id": "YlFwSta6Hdee"
      },
      "source": [
        "### 4.2 Load the dataset with a PyTorch dataloader\n",
        "\n",
        "Please take a look at the `bert-base-cased` tokenizer on the [Tokenizer Playground](https://huggingface.co/spaces/Xenova/the-tokenizer-playground). Our goal will be to predict the POS of each word, but BERT is trained on sub-word tokens, so we need to segment our dataset such that **only the first token of each word is classified**."
      ]
    },
    {
      "cell_type": "code",
      "execution_count": null,
      "metadata": {
        "colab": {
          "background_save": true
        },
        "id": "VWLZIDm9KGWM"
      },
      "outputs": [],
      "source": [
        "from torch.utils.data import Dataset\n",
        "\n",
        "class POSDataset(Dataset):\n",
        "  def __init__(self, data, tokenizer, max_len):\n",
        "    self.data = data\n",
        "    self.tokenizer = tokenizer\n",
        "    self.max_len = max_len\n",
        "\n",
        "  def __len__(self):\n",
        "    return len(self.data)\n",
        "\n",
        "  def __getitem__(self, index):\n",
        "    \"\"\"\n",
        "    Given an index, return the value in your training data (self.data). Make\n",
        "    sure the full output dict from self.tokenizer is returned, with an additional\n",
        "    value for your labels.\n",
        "\n",
        "    Remember! Your BERT tokenizer will give multiple tokens to words with the\n",
        "    same POS tag. We want the FIRST token be given the tag and all other tokens\n",
        "    to be given -100.\n",
        "\n",
        "    Hint: You may use the prepare_sequence() function from earlier sections\n",
        "    Hint: Our training data is already tokenized, so you may find the `is_split_into_words=True`\n",
        "      and `return_offsets_mapping=True` arguments helpful for getting the token offsets.\n",
        "    Hint: When using the tokenizer, you can also use padding='max_length' for [PAD]\n",
        "      tokens to be added for you.\n",
        "    \"\"\"\n",
        "    encoding = None\n",
        "\n",
        "    ### BEGIN YOUR CODE ###\n",
        "\n",
        "    # Get the sentence and POS tags\n",
        "    sentence, tags = self.data[index]\n",
        "    tags = prepare_sequence(tags, tag_to_idx).to(device)\n",
        "\n",
        "    # Use the BERT tokenizer (self.tokenizer) to encode the sentence. Make sure to\n",
        "    # truncate the sentence if it is longer than self.max_len, and pad the sentence if it\n",
        "    # is less than self.max_len.\n",
        "    encoding = self.tokenizer(sentence,\n",
        "                              is_split_into_words=True,\n",
        "                              return_offsets_mapping=True,\n",
        "                              padding='max_length',\n",
        "                              truncation=True,\n",
        "                              max_length=self.max_len)\n",
        "\n",
        "    # Create token labels, where the first token of each word is the POS tag, and\n",
        "    # all others are -100.\n",
        "    encoded_labels = torch.ones(len(encoding[\"offset_mapping\"]), dtype=int) * -100\n",
        "    i = 0\n",
        "    for idx, mapping in enumerate(encoding[\"offset_mapping\"]):\n",
        "      if mapping[0] == 0 and mapping[1] != 0:\n",
        "        encoded_labels[idx] = tags[i]\n",
        "        i += 1\n",
        "\n",
        "    # Add the token labels back to the tokenized dict\n",
        "    encoding['labels'] = torch.as_tensor(encoded_labels)\n",
        "\n",
        "    # Make sure both your encoded sentence, labels and attention mask are PyTorch tensors\n",
        "    encoding = {k: torch.as_tensor(v) for k, v in encoding.items()}\n",
        "\n",
        "    ### END YOUR CODE ###\n",
        "\n",
        "    return encoding"
      ]
    },
    {
      "cell_type": "code",
      "execution_count": null,
      "metadata": {
        "colab": {
          "background_save": true
        },
        "id": "JwszC5HkKIMY"
      },
      "outputs": [],
      "source": [
        "# Use your POSDataset class to create a train and test set\n",
        "MAX_LEN = 128\n",
        "\n",
        "# Further split your train data into train/test. You now have train/test/val.\n",
        "train_test_data, split = training_data, int(0.7 * len(training_data))\n",
        "random.shuffle(train_test_data)\n",
        "split_training_data, split_test_data = train_test_data[:split], train_test_data[split:]\n",
        "\n",
        "training_set = POSDataset(split_training_data, tokenizer, MAX_LEN)\n",
        "testing_set = POSDataset(split_test_data, tokenizer, MAX_LEN)\n",
        "validation_set = POSDataset(val_data, tokenizer, MAX_LEN)"
      ]
    },
    {
      "cell_type": "code",
      "execution_count": null,
      "metadata": {
        "colab": {
          "background_save": true
        },
        "id": "b0i4aActCgkf"
      },
      "outputs": [],
      "source": [
        "# Print a few values from your Dataloader!\n",
        "print(training_set.__getitem__(0)['input_ids'])\n",
        "print(training_set.__getitem__(0)['labels'])"
      ]
    },
    {
      "cell_type": "code",
      "execution_count": null,
      "metadata": {
        "colab": {
          "background_save": true
        },
        "id": "ZLB_vh1DKMdc"
      },
      "outputs": [],
      "source": [
        "# Create PyTorch dataloaders from the POSDataset\n",
        "from torch.utils.data import DataLoader\n",
        "\n",
        "training_loader = DataLoader(training_set, batch_size=64, shuffle=True)\n",
        "testing_loader = DataLoader(testing_set, batch_size=64, shuffle=True)\n",
        "validating_loader = DataLoader(validation_set, batch_size=8, shuffle=True)"
      ]
    },
    {
      "cell_type": "markdown",
      "metadata": {
        "id": "XxZvw4GOHdgv"
      },
      "source": [
        "### 4.3 Define your `BertForPOSTagging` Model\n",
        "\n",
        "Now we will modify BERT by extending the `DistilBertModel` class for our task."
      ]
    },
    {
      "cell_type": "code",
      "execution_count": null,
      "metadata": {
        "colab": {
          "background_save": true
        },
        "id": "l2ciCflIJsIj"
      },
      "outputs": [],
      "source": [
        "class BertForPOSTagging(DistilBertModel):\n",
        "    def __init__(self, config):\n",
        "        super().__init__(config)\n",
        "        self.num_labels = config.num_labels\n",
        "\n",
        "        ### BEGIN YOUR CODE ###\n",
        "\n",
        "        classifier_dropout = 0.5\n",
        "\n",
        "        self.bert = DistilBertModel(config)\n",
        "        self.dropout = nn.Dropout(classifier_dropout)\n",
        "        self.classifier = nn.Linear(config.hidden_size, config.num_labels)\n",
        "\n",
        "        self.loss = nn.CrossEntropyLoss()\n",
        "\n",
        "        ### END YOUR CODE ###\n",
        "\n",
        "        self.post_init()\n",
        "\n",
        "    def forward(self, input_ids, attention_mask, labels=None):\n",
        "        \"\"\"\n",
        "        Forward pass through your model. Returns output logits for each POS\n",
        "        label and the loss (if labels is not None)\n",
        "\n",
        "        Hint: You may use nn.CrossEntropyLoss() to calculate your loss.\n",
        "        \"\"\"\n",
        "        loss, logits = None, None\n",
        "\n",
        "        ### BEGIN YOUR CODE ###\n",
        "\n",
        "        outputs = self.bert(input_ids, attention_mask=attention_mask)\n",
        "        sequence_output = outputs[0]\n",
        "        sequence_output = self.dropout(sequence_output)\n",
        "        logits = self.classifier(sequence_output)\n",
        "\n",
        "        if labels is not None:\n",
        "            loss = self.loss(logits.view(-1, self.num_labels), labels.view(-1))\n",
        "\n",
        "        ### END YOUR CODE ###\n",
        "\n",
        "        if loss is not None:\n",
        "          return loss, logits\n",
        "        return logits"
      ]
    },
    {
      "cell_type": "code",
      "execution_count": null,
      "metadata": {
        "colab": {
          "background_save": true
        },
        "id": "FQ7jbKiFSdHG"
      },
      "outputs": [],
      "source": [
        "model = BertForPOSTagging.from_pretrained(\n",
        "    'distilbert-base-uncased',\n",
        "    num_labels=len(tag_to_idx)\n",
        ").to(device)\n",
        "\n",
        "MAX_GRAD_NORM = 10\n",
        "EPOCHS = 5\n",
        "\n",
        "optimizer = torch.optim.Adam(params=model.parameters(), lr=1e-04)"
      ]
    },
    {
      "cell_type": "markdown",
      "metadata": {
        "id": "kF-SS65KHdiv"
      },
      "source": [
        "### 4.4 Training and Evaluation\n",
        "\n",
        "Now we have instantiated our model, please create the train loop!\n",
        "\n",
        "*Hint: If your implementation is correct, you can expect a validation accuracy of `0.88`*"
      ]
    },
    {
      "cell_type": "code",
      "execution_count": null,
      "metadata": {
        "colab": {
          "background_save": true
        },
        "id": "PA-3Tm0u4Nj5"
      },
      "outputs": [],
      "source": [
        "# DistilBERT will take up a lot of memory (particularly during development)\n",
        "# use this to check the amount of memory you currently have. (Note: you should\n",
        "# be able to fine-tune with ~5 GB of GPU memory)\n",
        "print(f\"Currently allocated GPU memory: {torch.cuda.memory_allocated(device) / 1024**3:.2f} GB / {torch.cuda.get_device_properties(0).total_memory / 1024**3:.2f} GB\")\n",
        "\n",
        "# Hint: use `torch.cuda.empty_cache()` to clear the CUDA cache"
      ]
    },
    {
      "cell_type": "code",
      "execution_count": null,
      "metadata": {
        "colab": {
          "background_save": true
        },
        "id": "62G_ht0SJsjC"
      },
      "outputs": [],
      "source": [
        "def train(epoch):\n",
        "    train_loss = 0\n",
        "    train_examples, train_steps = 0, 0\n",
        "\n",
        "    model.train()\n",
        "    model.zero_grad()\n",
        "\n",
        "    for idx, batch in enumerate(training_loader):\n",
        "        ids = batch['input_ids'].to(device, dtype=torch.long)\n",
        "        mask = batch['attention_mask'].to(device, dtype=torch.long)\n",
        "        labels = batch['labels'].to(device, dtype=torch.long)\n",
        "\n",
        "        ### BEGIN YOUR CODE ###\n",
        "\n",
        "        loss, _ = model(input_ids=ids, attention_mask=mask, labels=labels)\n",
        "        train_loss += loss.item()\n",
        "\n",
        "        # Clip gradients (Not required, but helps training)\n",
        "        torch.nn.utils.clip_grad_norm_(parameters=model.parameters(), max_norm=MAX_GRAD_NORM)\n",
        "\n",
        "        optimizer.zero_grad()\n",
        "        loss.backward()\n",
        "        optimizer.step()\n",
        "\n",
        "        ### END YOUR CODE ###\n",
        "\n",
        "        train_steps += 1\n",
        "        train_examples += labels.size(0)\n",
        "\n",
        "    avg_train_loss = train_loss / train_steps\n",
        "    avg_val_loss, val_accuracy = evaluate_bert(model)\n",
        "\n",
        "    print(f\"Epoch: {epoch}/{EPOCHS}\\tAvg Train Loss: {avg_train_loss:.4f}\\tAvg Val Loss: {avg_val_loss:.4f}\\t Val Accuracy: {val_accuracy:.0f}\")\n",
        "\n",
        "def evaluate_bert(model):\n",
        "    correct, val_loss, val_examples = 0, 0, 0\n",
        "\n",
        "    model.eval()\n",
        "    with torch.no_grad():\n",
        "        for idx, batch in enumerate(validating_loader):\n",
        "            \"\"\"\n",
        "            Implement the evaluate method. Find the average validation loss\n",
        "            along with the validation accuracy.\n",
        "\n",
        "            Remember! You have labeled only the first token of each word. Make\n",
        "            sure you only calculate accuracy on values which are not -100.\n",
        "            \"\"\"\n",
        "            ids = batch['input_ids'].to(device, dtype=torch.long)\n",
        "            mask = batch['attention_mask'].to(device, dtype=torch.long)\n",
        "            labels = batch['labels'].to(device, dtype=torch.long)\n",
        "\n",
        "            ### BEGIN YOUR CODE ###\n",
        "\n",
        "            loss, target_logits = model(input_ids=ids, attention_mask=mask, labels=labels)\n",
        "\n",
        "            # Compute training accuracy\n",
        "            flattened_targets = labels.view(-1)\n",
        "            active_logits = target_logits.view(-1, model.num_labels)\n",
        "            flattened_predictions = torch.argmax(active_logits, axis=1)\n",
        "\n",
        "            # Only compute accuracy at active labels\n",
        "            active_accuracy = labels.view(-1) != -100\n",
        "\n",
        "            # Get the predicted labels\n",
        "            labels = torch.masked_select(flattened_targets, active_accuracy)\n",
        "            pred = torch.masked_select(flattened_predictions, active_accuracy)\n",
        "\n",
        "            # Get number of correct predictions\n",
        "            correct += pred.eq(labels.data.view_as(pred)).sum()\n",
        "\n",
        "            # Increase running total loss and the number of past valid samples\n",
        "            val_loss += loss\n",
        "            val_examples += labels.size(0)\n",
        "\n",
        "            ### END YOUR CODE ###\n",
        "\n",
        "    val_accuracy = 100 * correct / val_examples\n",
        "    avg_val_loss = val_loss / val_examples\n",
        "    return avg_val_loss, val_accuracy"
      ]
    },
    {
      "cell_type": "code",
      "execution_count": null,
      "metadata": {
        "colab": {
          "background_save": true
        },
        "id": "VqrcyOioEaKg"
      },
      "outputs": [],
      "source": [
        "for epoch in range(EPOCHS):\n",
        "    train(epoch)"
      ]
    },
    {
      "cell_type": "markdown",
      "metadata": {
        "id": "7OexOd_MKcZU"
      },
      "source": [
        "### 4.5 Inference\n",
        "\n",
        "Good job! Now we can use our fine-tuned BERT model for POS tagging.\n",
        "\n",
        "In fact, if you have a fine-tuned transformer model (such as in a final project), you could directly upload the model to HuggingFace for others to use (see [this group](https://huggingface.co/QCRI/bert-base-multilingual-cased-pos-english), which fine-tuned on a much larger corpus of POS tags)."
      ]
    },
    {
      "cell_type": "code",
      "execution_count": null,
      "metadata": {
        "colab": {
          "background_save": true
        },
        "id": "mAlylvpKKdmo"
      },
      "outputs": [],
      "source": [
        "def generate_prediction(model, sentence):\n",
        "    \"\"\"\n",
        "    Given a sentence, generate a full prediction of POS tags.\n",
        "\n",
        "    In this case, you are given a full sentence (not array of tokens), so you\n",
        "    will need to use your tokenizer differently.\n",
        "\n",
        "    Return your prediction in the format:\n",
        "      [(token 1, POS prediction 1), (token 2, POS prediction 2), ...]\n",
        "\n",
        "    E.g., \"The imperatives that\" => [('the', 'DT'), ('imperative', 'NNS'), ('that', 'WDT')]\n",
        "    \"\"\"\n",
        "    prediction = []\n",
        "\n",
        "    ### BEGIN YOUR CODE ###\n",
        "\n",
        "    reversed_tag_to_idx = {v: k for k, v in tag_to_idx.items()}\n",
        "\n",
        "    inputs = tokenizer(sentence,\n",
        "                       return_offsets_mapping=True,\n",
        "                       padding='max_length',\n",
        "                       truncation=True,\n",
        "                       max_length=MAX_LEN,\n",
        "                       return_tensors=\"pt\")\n",
        "\n",
        "    ids = inputs[\"input_ids\"].to(device)\n",
        "    mask = inputs[\"attention_mask\"].to(device)\n",
        "\n",
        "    outputs = model(input_ids=ids, attention_mask=mask)\n",
        "    logits = outputs[0]\n",
        "\n",
        "    active_logits = logits.view(-1, model.num_labels)\n",
        "    flattened_predictions = torch.argmax(active_logits, axis=1)\n",
        "\n",
        "    tokens = tokenizer.convert_ids_to_tokens(ids.squeeze().tolist())\n",
        "    token_predictions = [reversed_tag_to_idx[i] for i in flattened_predictions.cpu().numpy()]\n",
        "    wp_preds = list(zip(tokens, token_predictions))\n",
        "\n",
        "    for token_pred, mapping in zip(wp_preds, inputs[\"offset_mapping\"].squeeze().tolist()):\n",
        "      if mapping[0] != 0 or mapping[1] != 0:\n",
        "        prediction += [token_pred]\n",
        "      else:\n",
        "        continue\n",
        "\n",
        "    ### END YOUR CODE ###\n",
        "\n",
        "    return prediction"
      ]
    },
    {
      "cell_type": "code",
      "execution_count": null,
      "metadata": {
        "colab": {
          "background_save": true
        },
        "id": "m1LmcYugKlQN"
      },
      "outputs": [],
      "source": [
        "sentence = \"The imperatives that can be obeyed by a machine that has no limbs are bound to be of a rather intellectual character.\"\n",
        "print(generate_prediction(model, sentence))"
      ]
    },
    {
      "cell_type": "markdown",
      "metadata": {
        "id": "W09rDJA03pcT"
      },
      "source": [
        "## 5. Submit Your Homework\n",
        "This is the end of Project 2. Congratulations!\n",
        "\n",
        "Now, follow the steps below to submit your homework in [Gradescope](https://www.gradescope.com/courses/569792):\n",
        "\n",
        "1. Rename this ipynb file to 'CS4650_p2_GTusername.ipynb'. We recommend ensuring you have removed any extraneous cells & print statements, clearing all outputs, and using the Runtime --> Run all tool to make sure all output is update to date. Additionally, leaving comments in your code to help us understand your operations will assist the teaching staff in grading. It is not a requirement, but is recommended.\n",
        "2. Click on the menu 'File' --> 'Download' --> 'Download .py'.\n",
        "3. Click on the menu 'File' --> 'Download' --> 'Download .ipynb'.\n",
        "4. Download the notebook as a .pdf document. Make sure the output from Parts 1.6 & 2 & 3 are captured so we can see how the loss and accuracy changes while training.\n",
        "5. Upload all 3 files to Gradescope. Double check the files start with `CS4650_p2_*`, capitalization matters.\n",
        "\n"
      ]
    }
  ],
  "metadata": {
    "accelerator": "GPU",
    "anaconda-cloud": {},
    "colab": {
      "gpuType": "T4",
      "provenance": [],
      "toc_visible": true
    },
    "kernelspec": {
      "display_name": "Python 3",
      "name": "python3"
    },
    "language_info": {
      "codemirror_mode": {
        "name": "ipython",
        "version": 3
      },
      "file_extension": ".py",
      "mimetype": "text/x-python",
      "name": "python",
      "nbconvert_exporter": "python",
      "pygments_lexer": "ipython3",
      "version": "3.6.12"
    }
  },
  "nbformat": 4,
  "nbformat_minor": 0
}