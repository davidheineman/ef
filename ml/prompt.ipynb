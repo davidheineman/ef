{
 "cells": [
  {
   "cell_type": "code",
   "execution_count": 1,
   "metadata": {},
   "outputs": [],
   "source": [
    "import openai\n",
    "\n",
    "\n",
    "DEFAULT_KWARGS = {\n",
    "    'do_sample': True,\n",
    "    'top_p': 0.9,\n",
    "    'epsilon_cutoff': 0,\n",
    "    'temperature': 0.9,\n",
    "    'max_new_tokens': 256,\n",
    "    'num_beams': 1,\n",
    "    'num_return_sequences': 1,\n",
    "    'return_dict_in_generate': False, \n",
    "    'output_scores': False\n",
    "}\n",
    "\n",
    "def openai_init(path='.openai-secret'):\n",
    "    with open(path, 'r') as f: openai.api_key = f.read().strip()"
   ]
  },
  {
   "cell_type": "code",
   "execution_count": 2,
   "metadata": {},
   "outputs": [],
   "source": [
    "items = [\n",
    "    \"Wells Fargo: Making bad decisions since forever. #WorstBankEver\",\n",
    "    \"Thanks, Wells Fargo, for charging me fees just for existing. #NotCool\",\n",
    "    \"Wells Fargo customer service: Where dreams go to die. #CustomerServiceFail\",\n",
    "    \"Guess who messed up my account again? Yep, you guessed it, Wells Fargo. #NeverAgain\",\n",
    "    \"Wells Fargo: where incompetence meets greed. #WorstBankEver\",\n",
    "    \"Trying to reach Wells Fargo support is like shouting into the void. #NoHelp\",\n",
    "    \"Wells Fargo's idea of 'convenience' is robbing you blind. #Ripoff\",\n",
    "    \"Hey Wells Fargo, ever heard of 'ethical banking'? Didn't think so. #Shameful\",\n",
    "    \"Wells Fargo: You'll never find a more wretched hive of scum and villainy. #Avoid\",\n",
    "    \"Wells Fargo: Where fees multiply like rabbits. #MoneyPit\",\n",
    "    \"If you're looking for disappointment, look no further than Wells Fargo. #Fail\",\n",
    "    \"Wells Fargo's motto: 'Let's make banking as frustrating as possible.' #MissionAccomplished\",\n",
    "    \"I'd rather wrestle a bear than deal with Wells Fargo again. #BankingNightmare\",\n",
    "    \"Wells Fargo: Where customer satisfaction goes to die. #NoThanks\",\n",
    "    \"Wells Fargo: The epitome of corporate greed. #MoneyHungry\",\n",
    "    \"I'd rather trust a toddler with my finances than Wells Fargo. #NoFaith\",\n",
    "    \"Shoutout to Wells Fargo for consistently ruining my day. #ThanksForNothing\",\n",
    "    \"Wells Fargo: Where your money disappears without a trace. #Sketchy\",\n",
    "    \"Wells Fargo's idea of 'security' is a joke. #Unsafe\",\n",
    "    \"You know what's scarier than a horror movie? Wells Fargo's fees. #NightmareBank\",\n",
    "]"
   ]
  },
  {
   "cell_type": "code",
   "execution_count": 3,
   "metadata": {},
   "outputs": [],
   "source": [
    "prompt = \"\"\"We want to identify spans of negative text about a brand. We want to find the spans within that text which may include problems we can eventually solve.\n",
    "\n",
    "Convert this sentence to a series of tokens in the format of [WORD, LABEL], where each word corresponds to these labels:\n",
    "\n",
    "Urgent problem: 'URG'\n",
    "Product issue: 'PROD'\n",
    "Poor service: 'SERV'\n",
    "Brand frustration: 'FRUST'\n",
    "No problem: 'O'\n",
    "\n",
    "Make sure to highlight groups of labels. Here is an example:\n",
    "Input: \"Wells Fargo: Making bad decisions since forever. #WorstBankEver\"\n",
    "Output: [[\"Wells\", \"BRAND\"], [\"Fargo\", \"BRAND\"], [\":\", \"O\"], [\"Making\", \"FRUST\"], [\"bad\", \"FRUST\"], [\"decisions\", \"FRUST\"], [\"since\", \"O\"], [\"forever\", \"O\"], [\".\", \"O\"], [\"#\", \"SERV\"], [\"WorstBankEver\", \"SERV\"]]\n",
    "\n",
    "Now perform the task on your own!\n",
    "Input: {sent}\n",
    "Output: \"\"\""
   ]
  },
  {
   "cell_type": "code",
   "execution_count": 6,
   "metadata": {},
   "outputs": [
    {
     "name": "stdout",
     "output_type": "stream",
     "text": [
      "/Users/dhei/personal/ef\n"
     ]
    }
   ],
   "source": [
    "%cd ..\n",
    "openai_init()"
   ]
  },
  {
   "cell_type": "code",
   "execution_count": 7,
   "metadata": {},
   "outputs": [],
   "source": [
    "gpt_in = prompt.format(sent=items[0])"
   ]
  },
  {
   "cell_type": "code",
   "execution_count": 14,
   "metadata": {},
   "outputs": [],
   "source": [
    "out = openai.Completion.create(\n",
    "    engine=\"gpt-3.5-turbo-instruct-0914\",\n",
    "    prompt=gpt_in,\n",
    "    temperature=0.9,\n",
    "    max_tokens=512,\n",
    "    top_p=0.9,\n",
    "    frequency_penalty=0.0,\n",
    "    presence_penalty=0.0\n",
    ")"
   ]
  },
  {
   "cell_type": "code",
   "execution_count": 19,
   "metadata": {},
   "outputs": [
    {
     "data": {
      "text/plain": [
       "' [[\"Wells\", \"BRAND\"], [\"Fargo\", \"BRAND\"], [\":\", \"O\"], [\"Making\", \"FRUST\"], [\"bad\", \"FRUST\"], [\"decisions\", \"FRUST\"], [\"since\", \"O\"], [\"forever\", \"O\"], [\".\", \"O\"], [\"#\", \"SERV\"], [\"WorstBankEver\", \"SERV\"]]'"
      ]
     },
     "execution_count": 19,
     "metadata": {},
     "output_type": "execute_result"
    }
   ],
   "source": [
    "out[\"choices\"][0].text"
   ]
  },
  {
   "cell_type": "code",
   "execution_count": 20,
   "metadata": {},
   "outputs": [],
   "source": [
    "resp = []\n",
    "for i in items:\n",
    "    gpt_in = prompt.format(sent=i)\n",
    "    out = openai.Completion.create(\n",
    "        engine=\"gpt-3.5-turbo-instruct-0914\",\n",
    "        prompt=gpt_in,\n",
    "        temperature=0.9,\n",
    "        max_tokens=512,\n",
    "        top_p=0.9,\n",
    "        frequency_penalty=0.0,\n",
    "        presence_penalty=0.0\n",
    "    )\n",
    "    resp += [out[\"choices\"][0].text]"
   ]
  },
  {
   "cell_type": "code",
   "execution_count": 21,
   "metadata": {},
   "outputs": [
    {
     "data": {
      "text/plain": [
       "[' [[\"Wells\", \"BRAND\"], [\"Fargo\", \"BRAND\"], [\":\", \"O\"], [\"Making\", \"FRUST\"], [\"bad\", \"FRUST\"], [\"decisions\", \"FRUST\"], [\"since\", \"O\"], [\"forever\", \"O\"], [\".\", \"O\"], [\"#\", \"SERV\"], [\"WorstBankEver\", \"SERV\"]]',\n",
       " ' [[\"Thanks\", \"O\"], [\",\", \"O\"], [\"Wells\", \"BRAND\"], [\"Fargo\", \"BRAND\"], [\",\", \"O\"], [\"for\", \"O\"], [\"charging\", \"SERV\"], [\"me\", \"O\"], [\"fees\", \"PROD\"], [\"just\", \"O\"], [\"for\", \"O\"], [\"existing\", \"O\"], [\".\", \"O\"], [\"#\", \"SERV\"], [\"NotCool\", \"SERV\"]]',\n",
       " '[[\"Wells\", \"BRAND\"], [\"Fargo\", \"BRAND\"], [\"customer\", \"O\"], [\"service\", \"SERV\"], [\":\", \"O\"], [\"Where\", \"SERV\"], [\"dreams\", \"O\"], [\"go\", \"O\"], [\"to\", \"O\"], [\"die\", \"URG\"], [\".\", \"O\"], [\"#\", \"SERV\"], [\"CustomerServiceFail\", \"SERV\"]]',\n",
       " ' [[\"Guess\", \"O\"], [\"who\", \"O\"], [\"messed\", \"FRUST\"], [\"up\", \"PROD\"], [\"my\", \"PROD\"], [\"account\", \"PROD\"], [\"again\", \"O\"], [\"?\", \"O\"], [\"Yep\", \"O\"], [\",\", \"O\"], [\"you\", \"O\"], [\"guessed\", \"O\"], [\"it\", \"O\"], [\",\", \"O\"], [\"Wells\", \"BRAND\"], [\"Fargo\", \"BRAND\"], [\".\", \"O\"], [\"#\", \"SERV\"], [\"NeverAgain\", \"SERV\"]]',\n",
       " ' [[\"Wells\", \"BRAND\"], [\"Fargo\", \"BRAND\"], [\":\", \"O\"], [\"where\", \"O\"], [\"incompetence\", \"SERV\"], [\"meets\", \"SERV\"], [\"greed\", \"PROD\"], [\".\", \"O\"], [\"#\", \"SERV\"], [\"WorstBankEver\", \"SERV\"]]',\n",
       " '[[\"Trying\", \"O\"], [\"to\", \"O\"], [\"reach\", \"O\"], [\"Wells\", \"BRAND\"], [\"Fargo\", \"BRAND\"], [\"support\", \"SERV\"], [\"is\", \"O\"], [\"like\", \"O\"], [\"shouting\", \"O\"], [\"into\", \"O\"], [\"the\", \"O\"], [\"void\", \"O\"], [\".\", \"O\"], [\"#\", \"O\"], [\"NoHelp\", \"O\"]]',\n",
       " ' [[\"Wells\", \"BRAND\"], [\"Fargo\", \"BRAND\"], [\"\\'\", \"O\"], [\"s\", \"O\"], [\"idea\", \"O\"], [\"of\", \"O\"], [\"\\'\", \"O\"], [\"convenience\", \"O\"], [\"\\'\", \"O\"], [\"is\", \"O\"], [\"robbing\", \"URG\"], [\"you\", \"URG\"], [\"blind\", \"URG\"], [\".\", \"O\"], [\"#\", \"SERV\"], [\"Ripoff\", \"SERV\"]]',\n",
       " ' [[\"Hey\", \"O\"], [\"Wells\", \"BRAND\"], [\"Fargo\", \"BRAND\"], [\",\", \"O\"], [\"ever\", \"O\"], [\"heard\", \"O\"], [\"of\", \"O\"], [\"\\'\", \"O\"], [\"ethical\", \"PROD\"], [\"banking\", \"PROD\"], [\"\\'\", \"O\"], [\"?\", \"O\"], [\"Did\", \"O\"], [\"n\\'t\", \"O\"], [\"think\", \"O\"], [\"so\", \"O\"], [\".\", \"O\"], [\"#\", \"FRUST\"], [\"Shameful\", \"FRUST\"]]',\n",
       " ' [[\"Wells\", \"BRAND\"], [\"Fargo\", \"BRAND\"], [\":\", \"O\"], [\"You\\'ll\", \"O\"], [\"never\", \"O\"], [\"find\", \"O\"], [\"a\", \"O\"], [\"more\", \"O\"], [\"wretched\", \"FRUST\"], [\"hive\", \"FRUST\"], [\"of\", \"O\"], [\"scum\", \"FRUST\"], [\"and\", \"O\"], [\"villainy\", \"FRUST\"], [\".\", \"O\"], [\"#\", \"PROD\"], [\"Avoid\", \"PROD\"]]',\n",
       " ' [[\"Wells\", \"BRAND\"], [\"Fargo\", \"BRAND\"], [\":\", \"O\"], [\"Where\", \"O\"], [\"fees\", \"PROD\"], [\"multiply\", \"PROD\"], [\"like\", \"O\"], [\"rabbits\", \"O\"], [\".\", \"O\"], [\"#\", \"SERV\"], [\"MoneyPit\", \"SERV\"]]',\n",
       " '[[\"If\", \"O\"], [\"you\\'re\", \"O\"], [\"looking\", \"O\"], [\"for\", \"O\"], [\"disappointment\", \"FRUST\"], [\",\", \"O\"], [\"look\", \"O\"], [\"no\", \"O\"], [\"further\", \"O\"], [\"than\", \"O\"], [\"Wells\", \"BRAND\"], [\"Fargo\", \"BRAND\"], [\".\", \"O\"], [\"#\", \"SERV\"], [\"Fail\", \"SERV\"]]',\n",
       " ' [[\"Wells\", \"BRAND\"], [\"Fargo\", \"BRAND\"], [\"\\'\", \"O\"], [\"s\", \"O\"], [\"motto\", \"O\"], [\":\", \"O\"], [\"\\'\", \"O\"], [\"Let\\'s\", \"O\"], [\"make\", \"FRUST\"], [\"banking\", \"SERV\"], [\"as\", \"O\"], [\"frustrating\", \"FRUST\"], [\"as\", \"O\"], [\"possible\", \"O\"], [\"\\'\", \"O\"], [\".\", \"O\"], [\"#\", \"SERV\"], [\"MissionAccomplished\", \"SERV\"]]',\n",
       " ' [[\"I\\'d\", \"O\"], [\"rather\", \"O\"], [\"wrestle\", \"O\"], [\"a\", \"O\"], [\"bear\", \"O\"], [\"than\", \"O\"], [\"deal\", \"O\"], [\"with\", \"O\"], [\"Wells\", \"BRAND\"], [\"Fargo\", \"BRAND\"], [\"again\", \"O\"], [\".\", \"O\"], [\"#\", \"SERV\"], [\"BankingNightmare\", \"SERV\"]]',\n",
       " ' [[\"Wells\", \"BRAND\"], [\"Fargo\", \"BRAND\"], [\":\", \"O\"], [\"Where\", \"O\"], [\"customer\", \"O\"], [\"satisfaction\", \"SERV\"], [\"goes\", \"SERV\"], [\"to\", \"SERV\"], [\"die\", \"SERV\"], [\".\", \"O\"], [\"#\", \"O\"], [\"NoThanks\", \"O\"]]',\n",
       " ' [[\"Wells\", \"BRAND\"], [\"Fargo\", \"BRAND\"], [\":\", \"O\"], [\"The\", \"O\"], [\"epitome\", \"O\"], [\"of\", \"O\"], [\"corporate\", \"O\"], [\"greed\", \"FRUST\"], [\".\", \"O\"], [\"#\", \"SERV\"], [\"MoneyHungry\", \"SERV\"]]',\n",
       " ' [[\"I\\'d\", \"O\"], [\"rather\", \"O\"], [\"trust\", \"O\"], [\"a\", \"O\"], [\"toddler\", \"O\"], [\"with\", \"O\"], [\"my\", \"O\"], [\"finances\", \"O\"], [\"than\", \"O\"], [\"Wells\", \"BRAND\"], [\"Fargo\", \"BRAND\"], [\".\", \"O\"], [\"#\", \"O\"], [\"NoFaith\", \"O\"]]',\n",
       " ' [[\"Shoutout\", \"O\"], [\"to\", \"O\"], [\"Wells\", \"BRAND\"], [\"Fargo\", \"BRAND\"], [\"for\", \"O\"], [\"consistently\", \"O\"], [\"ruining\", \"FRUST\"], [\"my\", \"O\"], [\"day\", \"O\"], [\".\", \"O\"], [\"#\", \"SERV\"], [\"ThanksForNothing\", \"SERV\"]]',\n",
       " ' [[\"Wells\", \"BRAND\"], [\"Fargo\", \"BRAND\"], [\":\", \"O\"], [\"Where\", \"O\"], [\"your\", \"O\"], [\"money\", \"O\"], [\"disappears\", \"URG\"], [\"without\", \"O\"], [\"a\", \"O\"], [\"trace\", \"O\"], [\".\", \"O\"], [\"#\", \"SERV\"], [\"Sketchy\", \"SERV\"]]',\n",
       " ' [[\"Wells\", \"BRAND\"], [\"Fargo\", \"BRAND\"], [\"\\'s\", \"O\"], [\"idea\", \"O\"], [\"of\", \"O\"], [\"\\'\", \"O\"], [\"security\", \"URG\"], [\"\\'\", \"O\"], [\"is\", \"O\"], [\"a\", \"O\"], [\"joke\", \"FRUST\"], [\".\", \"O\"], [\"#\", \"PROD\"], [\"Unsafe\", \"PROD\"]]',\n",
       " ' [[\"You\", \"O\"], [\"know\", \"O\"], [\"what\\'s\", \"O\"], [\"scarier\", \"O\"], [\"than\", \"O\"], [\"a\", \"O\"], [\"horror\", \"O\"], [\"movie\", \"O\"], [\"?\", \"O\"], [\"Wells\", \"BRAND\"], [\"Fargo\", \"BRAND\"], [\"\\'s\", \"O\"], [\"fees\", \"SERV\"], [\".\", \"O\"], [\"#\", \"SERV\"], [\"NightmareBank\", \"SERV\"]]']"
      ]
     },
     "execution_count": 21,
     "metadata": {},
     "output_type": "execute_result"
    }
   ],
   "source": [
    "resp"
   ]
  }
 ],
 "metadata": {
  "kernelspec": {
   "display_name": "ef",
   "language": "python",
   "name": "python3"
  },
  "language_info": {
   "codemirror_mode": {
    "name": "ipython",
    "version": 3
   },
   "file_extension": ".py",
   "mimetype": "text/x-python",
   "name": "python",
   "nbconvert_exporter": "python",
   "pygments_lexer": "ipython3",
   "version": "3.12.1"
  }
 },
 "nbformat": 4,
 "nbformat_minor": 2
}
